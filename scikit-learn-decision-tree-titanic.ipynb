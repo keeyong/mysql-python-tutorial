{
 "cells": [
  {
   "cell_type": "markdown",
   "metadata": {},
   "source": [
    "# Titanic survival classifier\n",
    "- http://adataanalyst.com/scikit-learn/decision-trees-scikit-learn/\n",
    "- will be using 3 features (pclass, sex and age)"
   ]
  },
  {
   "cell_type": "code",
   "execution_count": 2,
   "metadata": {},
   "outputs": [
    {
     "name": "stdout",
     "output_type": "stream",
     "text": [
      "Populating the interactive namespace from numpy and matplotlib\n"
     ]
    }
   ],
   "source": [
    "%pylab inline"
   ]
  },
  {
   "cell_type": "markdown",
   "metadata": {},
   "source": [
    "#### titanic.csv will be shared separately through Slack\n",
    "- 'survived' 필드가 해당 분류기가 예측해야하는 값을 갖고 있다"
   ]
  },
  {
   "cell_type": "code",
   "execution_count": 3,
   "metadata": {
    "collapsed": true
   },
   "outputs": [],
   "source": [
    "import csv\n",
    "import numpy as np\n",
    "with open('/Users/khan/Documents/deeplearning/titanic.csv') as csvfile:\n",
    "    titanic_reader = csv.reader(csvfile, delimiter=',', quotechar='\"')\n",
    "    \n",
    "    # Header contains feature names\n",
    "    row = next(titanic_reader)\n",
    "    feature_names = np.array(row)\n",
    "    \n",
    "    # Load dataset, and target classes\n",
    "    titanic_X, titanic_y = [], []\n",
    "    for row in titanic_reader:  \n",
    "        titanic_X.append(row)\n",
    "        titanic_y.append(row[0]) # The target value is \"survived\"\n",
    "    \n",
    "    titanic_X = np.array(titanic_X)\n",
    "    titanic_y = np.array(titanic_y)"
   ]
  },
  {
   "cell_type": "code",
   "execution_count": 4,
   "metadata": {},
   "outputs": [
    {
     "name": "stdout",
     "output_type": "stream",
     "text": [
      "['survived' 'pclass' 'name' 'sex' 'age' 'sibsp' 'parch' 'ticket' 'fare'\n",
      " 'cabin' 'embarked'] ['0' '3' 'Braund, Mr. Owen Harris' 'male' '22' '1' '0' 'A/5 21171' '7.25'\n",
      " '' 'S'] 0\n"
     ]
    }
   ],
   "source": [
    "print (feature_names, titanic_X[0], titanic_y[0])"
   ]
  },
  {
   "cell_type": "markdown",
   "metadata": {},
   "source": [
    "#### feature를 pclass, age, sex로 구성"
   ]
  },
  {
   "cell_type": "code",
   "execution_count": 5,
   "metadata": {},
   "outputs": [
    {
     "name": "stdout",
     "output_type": "stream",
     "text": [
      "['pclass' 'age' 'sex']\n",
      "['3' '20' 'male'] 0\n"
     ]
    }
   ],
   "source": [
    "titanic_X = titanic_X[:, [1, 4, 3]]\n",
    "feature_names = feature_names[[1, 4, 3]]\n",
    "print (feature_names)\n",
    "print (titanic_X[12],titanic_y[12])"
   ]
  },
  {
   "cell_type": "markdown",
   "metadata": {},
   "source": [
    "#### age 필드의 경우 비어있는 레코드들이 존재. Default 값을 어떻게 할지 결정 필요 -> 평균값 사용"
   ]
  },
  {
   "cell_type": "code",
   "execution_count": 6,
   "metadata": {},
   "outputs": [
    {
     "name": "stdout",
     "output_type": "stream",
     "text": [
      "['22' '38' '26' '35' '35' '' '54' '2' '27' '14' '4' '58' '20' '39' '14'\n",
      " '55' '2' '' '31' '' '35' '34' '15' '28' '8' '38' '' '19' '' '' '40' '' ''\n",
      " '66' '28' '42' '' '21' '18' '14' '40' '27' '' '3' '19' '' '' '' '' '18'\n",
      " '7' '21' '49' '29' '65' '' '21' '28.5' '5' '11' '22' '38' '45' '4' '' ''\n",
      " '29' '19' '17' '26' '32' '16' '21' '26' '32' '25' '' '' '0.83' '30' '22'\n",
      " '29' '' '28' '17' '33' '16' '' '23' '24' '29' '20' '46' '26' '59' '' '71'\n",
      " '23' '34' '34' '28' '' '21' '33' '37' '28' '21' '' '38' '' '47' '14.5'\n",
      " '22' '20' '17' '21' '70.5' '29' '24' '2' '21' '' '32.5' '32.5' '54' '12'\n",
      " '' '24' '' '45' '33' '20' '47' '29' '25' '23' '19' '37' '16' '24' '' '22'\n",
      " '24' '19' '18' '19' '27' '9' '36.5' '42' '51' '22' '55.5' '40.5' '' '51'\n",
      " '16' '30' '' '' '44' '40' '26' '17' '1' '9' '' '45' '' '28' '61' '4' '1'\n",
      " '21' '56' '18' '' '50' '30' '36' '' '' '9' '1' '4' '' '' '45' '40' '36'\n",
      " '32' '19' '19' '3' '44' '58' '' '42' '' '24' '28' '' '34' '45.5' '18' '2'\n",
      " '32' '26' '16' '40' '24' '35' '22' '30' '' '31' '27' '42' '32' '30' '16'\n",
      " '27' '51' '' '38' '22' '19' '20.5' '18' '' '35' '29' '59' '5' '24' '' '44'\n",
      " '8' '19' '33' '' '' '29' '22' '30' '44' '25' '24' '37' '54' '' '29' '62'\n",
      " '30' '41' '29' '' '30' '35' '50' '' '3' '52' '40' '' '36' '16' '25' '58'\n",
      " '35' '' '25' '41' '37' '' '63' '45' '' '7' '35' '65' '28' '16' '19' ''\n",
      " '33' '30' '22' '42' '22' '26' '19' '36' '24' '24' '' '23.5' '2' '' '50' ''\n",
      " '' '19' '' '' '0.92' '' '17' '30' '30' '24' '18' '26' '28' '43' '26' '24'\n",
      " '54' '31' '40' '22' '27' '30' '22' '' '36' '61' '36' '31' '16' '' '45.5'\n",
      " '38' '16' '' '' '29' '41' '45' '45' '2' '24' '28' '25' '36' '24' '40' ''\n",
      " '3' '42' '23' '' '15' '25' '' '28' '22' '38' '' '' '40' '29' '45' '35' ''\n",
      " '30' '60' '' '' '24' '25' '18' '19' '22' '3' '' '22' '27' '20' '19' '42'\n",
      " '1' '32' '35' '' '18' '1' '36' '' '17' '36' '21' '28' '23' '24' '22' '31'\n",
      " '46' '23' '28' '39' '26' '21' '28' '20' '34' '51' '3' '21' '' '' '' '33'\n",
      " '' '44' '' '34' '18' '30' '10' '' '21' '29' '28' '18' '' '28' '19' '' '32'\n",
      " '28' '' '42' '17' '50' '14' '21' '24' '64' '31' '45' '20' '25' '28' '' '4'\n",
      " '13' '34' '5' '52' '36' '' '30' '49' '' '29' '65' '' '50' '' '48' '34'\n",
      " '47' '48' '' '38' '' '56' '' '0.75' '' '38' '33' '23' '22' '' '34' '29'\n",
      " '22' '2' '9' '' '50' '63' '25' '' '35' '58' '30' '9' '' '21' '55' '71'\n",
      " '21' '' '54' '' '25' '24' '17' '21' '' '37' '16' '18' '33' '' '28' '26'\n",
      " '29' '' '36' '54' '24' '47' '34' '' '36' '32' '30' '22' '' '44' '' '40.5'\n",
      " '50' '' '39' '23' '2' '' '17' '' '30' '7' '45' '30' '' '22' '36' '9' '11'\n",
      " '32' '50' '64' '19' '' '33' '8' '17' '27' '' '22' '22' '62' '48' '' '39'\n",
      " '36' '' '40' '28' '' '' '24' '19' '29' '' '32' '62' '53' '36' '' '16' '19'\n",
      " '34' '39' '' '32' '25' '39' '54' '36' '' '18' '47' '60' '22' '' '35' '52'\n",
      " '47' '' '37' '36' '' '49' '' '49' '24' '' '' '44' '35' '36' '30' '27' '22'\n",
      " '40' '39' '' '' '' '35' '24' '34' '26' '4' '26' '27' '42' '20' '21' '21'\n",
      " '61' '57' '21' '26' '' '80' '51' '32' '' '9' '28' '32' '31' '41' '' '20'\n",
      " '24' '2' '' '0.75' '48' '19' '56' '' '23' '' '18' '21' '' '18' '24' ''\n",
      " '32' '23' '58' '50' '40' '47' '36' '20' '32' '25' '' '43' '' '40' '31'\n",
      " '70' '31' '' '18' '24.5' '18' '43' '36' '' '27' '20' '14' '60' '25' '14'\n",
      " '19' '18' '15' '31' '4' '' '25' '60' '52' '44' '' '49' '42' '18' '35' '18'\n",
      " '25' '26' '39' '45' '42' '22' '' '24' '' '48' '29' '52' '19' '38' '27' ''\n",
      " '33' '6' '17' '34' '50' '27' '20' '30' '' '25' '25' '29' '11' '' '23' '23'\n",
      " '28.5' '48' '35' '' '' '' '36' '21' '24' '31' '70' '16' '30' '19' '31' '4'\n",
      " '6' '33' '23' '48' '0.67' '28' '18' '34' '33' '' '41' '20' '36' '16' '51'\n",
      " '' '30.5' '' '32' '24' '48' '57' '' '54' '18' '' '5' '' '43' '13' '17'\n",
      " '29' '' '25' '25' '18' '8' '1' '46' '' '16' '' '' '25' '39' '49' '31' '30'\n",
      " '30' '34' '31' '11' '0.42' '27' '31' '39' '18' '39' '33' '26' '39' '35'\n",
      " '6' '30.5' '' '23' '31' '43' '10' '52' '27' '38' '27' '2' '' '' '1' ''\n",
      " '62' '15' '0.83' '' '23' '18' '39' '21' '' '32' '' '20' '16' '30' '34.5'\n",
      " '17' '42' '' '35' '28' '' '4' '74' '9' '16' '44' '18' '45' '51' '24' ''\n",
      " '41' '21' '48' '' '24' '42' '27' '31' '' '4' '26' '47' '33' '47' '28' '15'\n",
      " '20' '19' '' '56' '25' '33' '22' '28' '25' '39' '27' '19' '' '26' '32']\n",
      "29.6991176471\n"
     ]
    }
   ],
   "source": [
    "# We have missing values for age\n",
    "# Assign the mean value\n",
    "ages = titanic_X[:, 1]\n",
    "print(ages)\n",
    "mean_age = np.mean(titanic_X[ages != '', 1].astype(np.float))\n",
    "titanic_X[titanic_X[:, 1] == '', 1] = mean_age\n",
    "print(mean_age)"
   ]
  },
  {
   "cell_type": "markdown",
   "metadata": {},
   "source": [
    "#### Gender의 값을 스트링에서 숫자로 바꿔준다"
   ]
  },
  {
   "cell_type": "code",
   "execution_count": 7,
   "metadata": {},
   "outputs": [
    {
     "name": "stdout",
     "output_type": "stream",
     "text": [
      "Categorical classes: ['female' 'male']\n",
      "Integer classes: [0 1]\n"
     ]
    }
   ],
   "source": [
    "# Encode sex \n",
    "from sklearn.preprocessing import LabelEncoder\n",
    "enc = LabelEncoder()\n",
    "label_encoder = enc.fit(titanic_X[:, 2])\n",
    "print (\"Categorical classes:\", label_encoder.classes_)\n",
    "integer_classes = label_encoder.transform(label_encoder.classes_)\n",
    "print (\"Integer classes:\", integer_classes)\n",
    "t = label_encoder.transform(titanic_X[:, 2])\n",
    "titanic_X[:, 2] = t"
   ]
  },
  {
   "cell_type": "code",
   "execution_count": 8,
   "metadata": {
    "collapsed": true
   },
   "outputs": [],
   "source": [
    "# Update feature names\n",
    "feature_names = ['pclass', 'age', 'sex']\n",
    "# Convert to numerical values\n",
    "titanic_X = titanic_X.astype(float)\n",
    "titanic_y = titanic_y.astype(float)"
   ]
  },
  {
   "cell_type": "code",
   "execution_count": 9,
   "metadata": {},
   "outputs": [
    {
     "name": "stdout",
     "output_type": "stream",
     "text": [
      "['pclass', 'age', 'sex']\n",
      "[  3.  20.   1.] 0.0\n"
     ]
    }
   ],
   "source": [
    "print (feature_names)\n",
    "print (titanic_X[12],titanic_y[12])"
   ]
  },
  {
   "cell_type": "code",
   "execution_count": 10,
   "metadata": {},
   "outputs": [
    {
     "name": "stderr",
     "output_type": "stream",
     "text": [
      "/anaconda/lib/python3.6/site-packages/sklearn/cross_validation.py:44: DeprecationWarning: This module was deprecated in version 0.18 in favor of the model_selection module into which all the refactored classes and functions are moved. Also note that the interface of the new CV iterators are different from that of this module. This module will be removed in 0.20.\n",
      "  \"This module will be removed in 0.20.\", DeprecationWarning)\n"
     ]
    }
   ],
   "source": [
    "from sklearn.cross_validation import train_test_split\n",
    "X_train, X_test, y_train, y_test = train_test_split(titanic_X, titanic_y, test_size=0.25, random_state=33)"
   ]
  },
  {
   "cell_type": "code",
   "execution_count": 11,
   "metadata": {
    "collapsed": true
   },
   "outputs": [],
   "source": [
    "from sklearn import tree\n",
    "clf = tree.DecisionTreeClassifier(criterion='entropy', max_depth=3,min_samples_leaf=5)\n",
    "clf = clf.fit(X_train,y_train)"
   ]
  },
  {
   "cell_type": "code",
   "execution_count": 12,
   "metadata": {},
   "outputs": [
    {
     "name": "stdout",
     "output_type": "stream",
     "text": [
      "Accuracy:0.802 \n",
      "\n"
     ]
    }
   ],
   "source": [
    "from sklearn import metrics\n",
    "def measure_performance(X,y,clf, show_accuracy=True, show_classification_report=True, show_confusion_matrix=True):\n",
    "    y_pred=clf.predict(X)   \n",
    "    if show_accuracy:\n",
    "        print (\"Accuracy:{0:.3f}\".format(metrics.accuracy_score(y,y_pred)),\"\\n\")\n",
    "\n",
    "    if show_classification_report:\n",
    "        print (\"Classification report\")\n",
    "        print (metrics.classification_report(y,y_pred),\"\\n\")\n",
    "        \n",
    "    if show_confusion_matrix:\n",
    "        print (\"Confusion matrix\")\n",
    "        print (metrics.confusion_matrix(y,y_pred),\"\\n\")\n",
    "        \n",
    "measure_performance(X_train,y_train,clf, show_classification_report=False, show_confusion_matrix=False)"
   ]
  },
  {
   "cell_type": "code",
   "execution_count": 14,
   "metadata": {
    "collapsed": true
   },
   "outputs": [],
   "source": [
    "from sklearn.cross_validation import cross_val_score, LeaveOneOut\n",
    "from scipy.stats import sem\n",
    "\n",
    "def loo_cv(X_train,y_train,clf):\n",
    "    # Perform Leave-One-Out cross validation\n",
    "    # We are preforming 1313 classifications!\n",
    "    loo = LeaveOneOut(X_train[:].shape[0])\n",
    "    scores=np.zeros(X_train[:].shape[0])\n",
    "    for train_index,test_index in loo:\n",
    "        X_train_cv, X_test_cv= X_train[train_index], X_train[test_index]\n",
    "        y_train_cv, y_test_cv= y_train[train_index], y_train[test_index]\n",
    "        clf = clf.fit(X_train_cv,y_train_cv)\n",
    "        y_pred=clf.predict(X_test_cv)\n",
    "        scores[test_index]=metrics.accuracy_score(y_test_cv.astype(int), y_pred.astype(int))\n",
    "    print ((\"Mean score: {0:.3f} (+/-{1:.3f})\").format(np.mean(scores), sem(scores)))"
   ]
  },
  {
   "cell_type": "code",
   "execution_count": 15,
   "metadata": {},
   "outputs": [
    {
     "name": "stdout",
     "output_type": "stream",
     "text": [
      "Mean score: 0.802 (+/-0.015)\n"
     ]
    }
   ],
   "source": [
    "loo_cv(X_train, y_train,clf)"
   ]
  },
  {
   "cell_type": "code",
   "execution_count": 16,
   "metadata": {},
   "outputs": [
    {
     "name": "stdout",
     "output_type": "stream",
     "text": [
      "Mean score: 0.796 (+/-0.016)\n"
     ]
    }
   ],
   "source": [
    "from sklearn.ensemble import RandomForestClassifier\n",
    "clf = RandomForestClassifier(n_estimators=10,random_state=33)\n",
    "clf = clf.fit(X_train,y_train)\n",
    "loo_cv(X_train,y_train,clf)"
   ]
  },
  {
   "cell_type": "code",
   "execution_count": 17,
   "metadata": {},
   "outputs": [
    {
     "name": "stdout",
     "output_type": "stream",
     "text": [
      "Accuracy:0.834 \n",
      "\n",
      "Classification report\n",
      "             precision    recall  f1-score   support\n",
      "\n",
      "        0.0       0.85      0.88      0.86       134\n",
      "        1.0       0.81      0.76      0.79        89\n",
      "\n",
      "avg / total       0.83      0.83      0.83       223\n",
      " \n",
      "\n",
      "Confusion matrix\n",
      "[[118  16]\n",
      " [ 21  68]] \n",
      "\n"
     ]
    }
   ],
   "source": [
    "clf_dt=tree.DecisionTreeClassifier(criterion='entropy', max_depth=3,min_samples_leaf=5)\n",
    "clf_dt.fit(X_train,y_train)\n",
    "measure_performance(X_test,y_test,clf_dt)"
   ]
  },
  {
   "cell_type": "code",
   "execution_count": 21,
   "metadata": {},
   "outputs": [
    {
     "name": "stdout",
     "output_type": "stream",
     "text": [
      "[  1.  47.   1.]\n",
      "['pclass', 'age', 'sex']\n"
     ]
    },
    {
     "data": {
      "text/plain": [
       "array([ 1.])"
      ]
     },
     "execution_count": 21,
     "metadata": {},
     "output_type": "execute_result"
    }
   ],
   "source": [
    "print(X_train[0])\n",
    "print(feature_names)\n",
    "# \n",
    "clf.predict([[1, 5, 0]])"
   ]
  },
  {
   "cell_type": "code",
   "execution_count": 20,
   "metadata": {},
   "outputs": [
    {
     "name": "stderr",
     "output_type": "stream",
     "text": [
      "/anaconda/lib/python3.6/site-packages/sklearn/utils/validation.py:395: DeprecationWarning: Passing 1d arrays as data is deprecated in 0.17 and will raise ValueError in 0.19. Reshape your data either using X.reshape(-1, 1) if your data has a single feature or X.reshape(1, -1) if it contains a single sample.\n",
      "  DeprecationWarning)\n"
     ]
    },
    {
     "data": {
      "text/plain": [
       "array([ 0.])"
      ]
     },
     "execution_count": 20,
     "metadata": {},
     "output_type": "execute_result"
    }
   ],
   "source": [
    "clf.predict([3, 39, 1])"
   ]
  },
  {
   "cell_type": "code",
   "execution_count": null,
   "metadata": {
    "collapsed": true
   },
   "outputs": [],
   "source": []
  }
 ],
 "metadata": {
  "kernelspec": {
   "display_name": "Python 3",
   "language": "python",
   "name": "python3"
  },
  "language_info": {
   "codemirror_mode": {
    "name": "ipython",
    "version": 3
   },
   "file_extension": ".py",
   "mimetype": "text/x-python",
   "name": "python",
   "nbconvert_exporter": "python",
   "pygments_lexer": "ipython3",
   "version": "3.6.1"
  }
 },
 "nbformat": 4,
 "nbformat_minor": 2
}

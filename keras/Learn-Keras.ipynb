{
 "cells": [
  {
   "cell_type": "markdown",
   "metadata": {},
   "source": [
    "# Learn about Keras and Neural Network"
   ]
  },
  {
   "cell_type": "code",
   "execution_count": 1,
   "metadata": {
    "collapsed": true
   },
   "outputs": [],
   "source": [
    "import numpy as np\n",
    "import pandas as pd\n",
    "%matplotlib inline\n",
    "import matplotlib.pyplot as plt"
   ]
  },
  {
   "cell_type": "markdown",
   "metadata": {},
   "source": [
    "![](../data/banknotes.png)"
   ]
  },
  {
   "cell_type": "markdown",
   "metadata": {},
   "source": [
    "### Loading some training set data (지폐분류기)"
   ]
  },
  {
   "cell_type": "code",
   "execution_count": 2,
   "metadata": {
    "collapsed": true
   },
   "outputs": [],
   "source": [
    "df = pd.read_csv('data/banknotes.csv')"
   ]
  },
  {
   "cell_type": "code",
   "execution_count": 3,
   "metadata": {},
   "outputs": [
    {
     "data": {
      "text/html": [
       "<div>\n",
       "<style>\n",
       "    .dataframe thead tr:only-child th {\n",
       "        text-align: right;\n",
       "    }\n",
       "\n",
       "    .dataframe thead th {\n",
       "        text-align: left;\n",
       "    }\n",
       "\n",
       "    .dataframe tbody tr th {\n",
       "        vertical-align: top;\n",
       "    }\n",
       "</style>\n",
       "<table border=\"1\" class=\"dataframe\">\n",
       "  <thead>\n",
       "    <tr style=\"text-align: right;\">\n",
       "      <th></th>\n",
       "      <th>variace</th>\n",
       "      <th>skewness</th>\n",
       "      <th>curtosis</th>\n",
       "      <th>entropy</th>\n",
       "      <th>class</th>\n",
       "    </tr>\n",
       "  </thead>\n",
       "  <tbody>\n",
       "    <tr>\n",
       "      <th>0</th>\n",
       "      <td>3.62160</td>\n",
       "      <td>8.6661</td>\n",
       "      <td>-2.8073</td>\n",
       "      <td>-0.44699</td>\n",
       "      <td>0</td>\n",
       "    </tr>\n",
       "    <tr>\n",
       "      <th>1</th>\n",
       "      <td>4.54590</td>\n",
       "      <td>8.1674</td>\n",
       "      <td>-2.4586</td>\n",
       "      <td>-1.46210</td>\n",
       "      <td>0</td>\n",
       "    </tr>\n",
       "    <tr>\n",
       "      <th>2</th>\n",
       "      <td>3.86600</td>\n",
       "      <td>-2.6383</td>\n",
       "      <td>1.9242</td>\n",
       "      <td>0.10645</td>\n",
       "      <td>0</td>\n",
       "    </tr>\n",
       "    <tr>\n",
       "      <th>3</th>\n",
       "      <td>3.45660</td>\n",
       "      <td>9.5228</td>\n",
       "      <td>-4.0112</td>\n",
       "      <td>-3.59440</td>\n",
       "      <td>0</td>\n",
       "    </tr>\n",
       "    <tr>\n",
       "      <th>4</th>\n",
       "      <td>0.32924</td>\n",
       "      <td>-4.4552</td>\n",
       "      <td>4.5718</td>\n",
       "      <td>-0.98880</td>\n",
       "      <td>0</td>\n",
       "    </tr>\n",
       "  </tbody>\n",
       "</table>\n",
       "</div>"
      ],
      "text/plain": [
       "   variace  skewness  curtosis  entropy  class\n",
       "0  3.62160    8.6661   -2.8073 -0.44699      0\n",
       "1  4.54590    8.1674   -2.4586 -1.46210      0\n",
       "2  3.86600   -2.6383    1.9242  0.10645      0\n",
       "3  3.45660    9.5228   -4.0112 -3.59440      0\n",
       "4  0.32924   -4.4552    4.5718 -0.98880      0"
      ]
     },
     "execution_count": 3,
     "metadata": {},
     "output_type": "execute_result"
    }
   ],
   "source": [
    "df.head()"
   ]
  },
  {
   "cell_type": "code",
   "execution_count": 4,
   "metadata": {},
   "outputs": [
    {
     "data": {
      "text/plain": [
       "0    762\n",
       "1    610\n",
       "Name: class, dtype: int64"
      ]
     },
     "execution_count": 4,
     "metadata": {},
     "output_type": "execute_result"
    }
   ],
   "source": [
    "df['class'].value_counts()"
   ]
  },
  {
   "cell_type": "code",
   "execution_count": 7,
   "metadata": {
    "collapsed": true
   },
   "outputs": [],
   "source": [
    "from sklearn.model_selection import train_test_split, cross_val_score\n",
    "from sklearn.ensemble import RandomForestClassifier\n",
    "from sklearn.preprocessing import scale"
   ]
  },
  {
   "cell_type": "code",
   "execution_count": 8,
   "metadata": {
    "collapsed": true
   },
   "outputs": [],
   "source": [
    "X = scale(df.drop('class', axis=1).values)\n",
    "y = df['class'].values"
   ]
  },
  {
   "cell_type": "markdown",
   "metadata": {},
   "source": [
    "### Logistic Regression Model"
   ]
  },
  {
   "cell_type": "code",
   "execution_count": 10,
   "metadata": {
    "collapsed": true
   },
   "outputs": [],
   "source": [
    "X_train, X_test, y_train, y_test = train_test_split(X, y,\n",
    "                                                    test_size=0.3,\n",
    "                                                    random_state=42)"
   ]
  },
  {
   "cell_type": "code",
   "execution_count": 11,
   "metadata": {},
   "outputs": [
    {
     "name": "stderr",
     "output_type": "stream",
     "text": [
      "Using TensorFlow backend.\n"
     ]
    }
   ],
   "source": [
    "import keras.backend as K\n",
    "from keras.models import Sequential\n",
    "from keras.layers import Dense, Activation\n",
    "from keras.optimizers import SGD"
   ]
  },
  {
   "cell_type": "code",
   "execution_count": 12,
   "metadata": {},
   "outputs": [
    {
     "name": "stdout",
     "output_type": "stream",
     "text": [
      "Epoch 1/10\n",
      "960/960 [==============================] - 0s - loss: 0.6753 - acc: 0.6021     \n",
      "Epoch 2/10\n",
      "960/960 [==============================] - 0s - loss: 0.6342 - acc: 0.6281     \n",
      "Epoch 3/10\n",
      "960/960 [==============================] - 0s - loss: 0.5981 - acc: 0.6510     \n",
      "Epoch 4/10\n",
      "960/960 [==============================] - 0s - loss: 0.5664 - acc: 0.6625     \n",
      "Epoch 5/10\n",
      "960/960 [==============================] - 0s - loss: 0.5387 - acc: 0.6802     \n",
      "Epoch 6/10\n",
      "960/960 [==============================] - 0s - loss: 0.5144 - acc: 0.7052     \n",
      "Epoch 7/10\n",
      "960/960 [==============================] - 0s - loss: 0.4932 - acc: 0.7354     \n",
      "Epoch 8/10\n",
      "960/960 [==============================] - 0s - loss: 0.4744 - acc: 0.7677     \n",
      "Epoch 9/10\n",
      "960/960 [==============================] - 0s - loss: 0.4579 - acc: 0.7854     \n",
      "Epoch 10/10\n",
      "960/960 [==============================] - 0s - loss: 0.4430 - acc: 0.8083     \n",
      " 32/412 [=>............................] - ETA: 0s"
     ]
    }
   ],
   "source": [
    "K.clear_session()\n",
    "\n",
    "model = Sequential()\n",
    "model.add(Dense(1, input_shape=(4,), activation='sigmoid'))\n",
    "\n",
    "model.compile(loss='binary_crossentropy',\n",
    "              optimizer='sgd',\n",
    "              metrics=['accuracy'])\n",
    "\n",
    "history = model.fit(X_train, y_train, epochs=10)\n",
    "result = model.evaluate(X_test, y_test)"
   ]
  },
  {
   "cell_type": "code",
   "execution_count": 13,
   "metadata": {
    "collapsed": true
   },
   "outputs": [],
   "source": [
    "historydf = pd.DataFrame(history.history, index=history.epoch)"
   ]
  },
  {
   "cell_type": "code",
   "execution_count": 14,
   "metadata": {},
   "outputs": [
    {
     "data": {
      "text/plain": [
       "Text(0.5,1,'Test accuracy: 79.1 %')"
      ]
     },
     "execution_count": 14,
     "metadata": {},
     "output_type": "execute_result"
    },
    {
     "data": {
      "image/png": "[encoded data removed]",
      "text/plain": [
       "<matplotlib.figure.Figure at 0x1c25c58a58>"
      ]
     },
     "metadata": {},
     "output_type": "display_data"
    }
   ],
   "source": [
    "historydf.plot(ylim=(0,1))\n",
    "plt.title(\"Test accuracy: {:3.1f} %\".format(result[1]*100), fontsize=15)"
   ]
  },
  {
   "cell_type": "code",
   "execution_count": 15,
   "metadata": {},
   "outputs": [
    {
     "data": {
      "text/plain": [
       "[0.45287452247536297, 0.79126213476495832]"
      ]
     },
     "execution_count": 15,
     "metadata": {},
     "output_type": "execute_result"
    }
   ],
   "source": [
    "result\n",
    "# loss and then acc"
   ]
  },
  {
   "cell_type": "code",
   "execution_count": 16,
   "metadata": {},
   "outputs": [
    {
     "name": "stdout",
     "output_type": "stream",
     "text": [
      "Train on 960 samples, validate on 412 samples\n",
      "Epoch 1/10\n",
      "960/960 [==============================] - 0s - loss: 0.4212 - acc: 0.8417 - val_loss: 0.4681 - val_acc: 0.7670\n",
      "Epoch 2/10\n",
      "960/960 [==============================] - 0s - loss: 0.4031 - acc: 0.8573 - val_loss: 0.4713 - val_acc: 0.7621\n",
      "Epoch 3/10\n",
      "960/960 [==============================] - 0s - loss: 0.3872 - acc: 0.8646 - val_loss: 0.4742 - val_acc: 0.7549\n",
      "Epoch 4/10\n",
      "960/960 [==============================] - 0s - loss: 0.3729 - acc: 0.8677 - val_loss: 0.4770 - val_acc: 0.7524\n",
      "Epoch 5/10\n",
      "960/960 [==============================] - 0s - loss: 0.3602 - acc: 0.8719 - val_loss: 0.4796 - val_acc: 0.7500\n",
      "Epoch 6/10\n",
      "960/960 [==============================] - 0s - loss: 0.3488 - acc: 0.8781 - val_loss: 0.4820 - val_acc: 0.7451\n",
      "Epoch 7/10\n",
      "960/960 [==============================] - 0s - loss: 0.3385 - acc: 0.8781 - val_loss: 0.4841 - val_acc: 0.7476\n",
      "Epoch 8/10\n",
      "960/960 [==============================] - 0s - loss: 0.3291 - acc: 0.8781 - val_loss: 0.4860 - val_acc: 0.7427\n",
      "Epoch 9/10\n",
      "960/960 [==============================] - 0s - loss: 0.3206 - acc: 0.8813 - val_loss: 0.4876 - val_acc: 0.7476\n",
      "Epoch 10/10\n",
      "960/960 [==============================] - 0s - loss: 0.3127 - acc: 0.8875 - val_loss: 0.4890 - val_acc: 0.7427\n"
     ]
    }
   ],
   "source": [
    "history = model.fit(X, y, validation_split=0.3)"
   ]
  },
  {
   "cell_type": "markdown",
   "metadata": {},
   "source": [
    "### Learning Rates"
   ]
  },
  {
   "cell_type": "code",
   "execution_count": 17,
   "metadata": {
    "collapsed": true
   },
   "outputs": [],
   "source": [
    "dflist = []\n",
    "\n",
    "learning_rates = [0.01, 0.05, 0.1, 0.5]\n",
    "\n",
    "for lr in learning_rates:\n",
    "\n",
    "    K.clear_session()\n",
    "\n",
    "    model = Sequential()\n",
    "    model.add(Dense(1, input_shape=(4,), activation='sigmoid'))\n",
    "    model.compile(loss='binary_crossentropy',\n",
    "                  optimizer=SGD(lr=lr),\n",
    "                  metrics=['accuracy'])\n",
    "    h = model.fit(X_train, y_train, batch_size=16, verbose=0)\n",
    "    \n",
    "    dflist.append(pd.DataFrame(h.history, index=h.epoch))"
   ]
  },
  {
   "cell_type": "code",
   "execution_count": 18,
   "metadata": {
    "collapsed": true
   },
   "outputs": [],
   "source": [
    "historydf = pd.concat(dflist, axis=1)"
   ]
  },
  {
   "cell_type": "code",
   "execution_count": 19,
   "metadata": {},
   "outputs": [
    {
     "data": {
      "text/html": [
       "<div>\n",
       "<style>\n",
       "    .dataframe thead tr:only-child th {\n",
       "        text-align: right;\n",
       "    }\n",
       "\n",
       "    .dataframe thead th {\n",
       "        text-align: left;\n",
       "    }\n",
       "\n",
       "    .dataframe tbody tr th {\n",
       "        vertical-align: top;\n",
       "    }\n",
       "</style>\n",
       "<table border=\"1\" class=\"dataframe\">\n",
       "  <thead>\n",
       "    <tr style=\"text-align: right;\">\n",
       "      <th></th>\n",
       "      <th>acc</th>\n",
       "      <th>loss</th>\n",
       "      <th>acc</th>\n",
       "      <th>loss</th>\n",
       "      <th>acc</th>\n",
       "      <th>loss</th>\n",
       "      <th>acc</th>\n",
       "      <th>loss</th>\n",
       "    </tr>\n",
       "  </thead>\n",
       "  <tbody>\n",
       "    <tr>\n",
       "      <th>0</th>\n",
       "      <td>0.461458</td>\n",
       "      <td>0.890932</td>\n",
       "      <td>0.806250</td>\n",
       "      <td>0.482790</td>\n",
       "      <td>0.794792</td>\n",
       "      <td>0.469094</td>\n",
       "      <td>0.857292</td>\n",
       "      <td>0.355666</td>\n",
       "    </tr>\n",
       "    <tr>\n",
       "      <th>1</th>\n",
       "      <td>0.557292</td>\n",
       "      <td>0.721001</td>\n",
       "      <td>0.911458</td>\n",
       "      <td>0.337226</td>\n",
       "      <td>0.912500</td>\n",
       "      <td>0.285969</td>\n",
       "      <td>0.964583</td>\n",
       "      <td>0.135466</td>\n",
       "    </tr>\n",
       "    <tr>\n",
       "      <th>2</th>\n",
       "      <td>0.657292</td>\n",
       "      <td>0.616305</td>\n",
       "      <td>0.929167</td>\n",
       "      <td>0.277751</td>\n",
       "      <td>0.932292</td>\n",
       "      <td>0.229161</td>\n",
       "      <td>0.975000</td>\n",
       "      <td>0.098701</td>\n",
       "    </tr>\n",
       "    <tr>\n",
       "      <th>3</th>\n",
       "      <td>0.762500</td>\n",
       "      <td>0.549345</td>\n",
       "      <td>0.941667</td>\n",
       "      <td>0.240780</td>\n",
       "      <td>0.942708</td>\n",
       "      <td>0.193307</td>\n",
       "      <td>0.977083</td>\n",
       "      <td>0.081973</td>\n",
       "    </tr>\n",
       "    <tr>\n",
       "      <th>4</th>\n",
       "      <td>0.787500</td>\n",
       "      <td>0.503380</td>\n",
       "      <td>0.947917</td>\n",
       "      <td>0.214527</td>\n",
       "      <td>0.951042</td>\n",
       "      <td>0.168727</td>\n",
       "      <td>0.978125</td>\n",
       "      <td>0.072595</td>\n",
       "    </tr>\n",
       "    <tr>\n",
       "      <th>5</th>\n",
       "      <td>0.806250</td>\n",
       "      <td>0.469568</td>\n",
       "      <td>0.954167</td>\n",
       "      <td>0.194676</td>\n",
       "      <td>0.958333</td>\n",
       "      <td>0.150646</td>\n",
       "      <td>0.978125</td>\n",
       "      <td>0.066185</td>\n",
       "    </tr>\n",
       "    <tr>\n",
       "      <th>6</th>\n",
       "      <td>0.815625</td>\n",
       "      <td>0.442964</td>\n",
       "      <td>0.956250</td>\n",
       "      <td>0.179041</td>\n",
       "      <td>0.962500</td>\n",
       "      <td>0.136898</td>\n",
       "      <td>0.980208</td>\n",
       "      <td>0.061534</td>\n",
       "    </tr>\n",
       "    <tr>\n",
       "      <th>7</th>\n",
       "      <td>0.821875</td>\n",
       "      <td>0.421099</td>\n",
       "      <td>0.956250</td>\n",
       "      <td>0.166415</td>\n",
       "      <td>0.968750</td>\n",
       "      <td>0.126101</td>\n",
       "      <td>0.981250</td>\n",
       "      <td>0.057930</td>\n",
       "    </tr>\n",
       "    <tr>\n",
       "      <th>8</th>\n",
       "      <td>0.830208</td>\n",
       "      <td>0.402438</td>\n",
       "      <td>0.962500</td>\n",
       "      <td>0.155983</td>\n",
       "      <td>0.969792</td>\n",
       "      <td>0.117486</td>\n",
       "      <td>0.981250</td>\n",
       "      <td>0.055253</td>\n",
       "    </tr>\n",
       "    <tr>\n",
       "      <th>9</th>\n",
       "      <td>0.837500</td>\n",
       "      <td>0.386124</td>\n",
       "      <td>0.965625</td>\n",
       "      <td>0.147198</td>\n",
       "      <td>0.969792</td>\n",
       "      <td>0.110446</td>\n",
       "      <td>0.981250</td>\n",
       "      <td>0.052847</td>\n",
       "    </tr>\n",
       "  </tbody>\n",
       "</table>\n",
       "</div>"
      ],
      "text/plain": [
       "        acc      loss       acc      loss       acc      loss       acc  \\\n",
       "0  0.461458  0.890932  0.806250  0.482790  0.794792  0.469094  0.857292   \n",
       "1  0.557292  0.721001  0.911458  0.337226  0.912500  0.285969  0.964583   \n",
       "2  0.657292  0.616305  0.929167  0.277751  0.932292  0.229161  0.975000   \n",
       "3  0.762500  0.549345  0.941667  0.240780  0.942708  0.193307  0.977083   \n",
       "4  0.787500  0.503380  0.947917  0.214527  0.951042  0.168727  0.978125   \n",
       "5  0.806250  0.469568  0.954167  0.194676  0.958333  0.150646  0.978125   \n",
       "6  0.815625  0.442964  0.956250  0.179041  0.962500  0.136898  0.980208   \n",
       "7  0.821875  0.421099  0.956250  0.166415  0.968750  0.126101  0.981250   \n",
       "8  0.830208  0.402438  0.962500  0.155983  0.969792  0.117486  0.981250   \n",
       "9  0.837500  0.386124  0.965625  0.147198  0.969792  0.110446  0.981250   \n",
       "\n",
       "       loss  \n",
       "0  0.355666  \n",
       "1  0.135466  \n",
       "2  0.098701  \n",
       "3  0.081973  \n",
       "4  0.072595  \n",
       "5  0.066185  \n",
       "6  0.061534  \n",
       "7  0.057930  \n",
       "8  0.055253  \n",
       "9  0.052847  "
      ]
     },
     "execution_count": 19,
     "metadata": {},
     "output_type": "execute_result"
    }
   ],
   "source": [
    "historydf"
   ]
  },
  {
   "cell_type": "code",
   "execution_count": 20,
   "metadata": {
    "collapsed": true
   },
   "outputs": [],
   "source": [
    "metrics_reported = dflist[0].columns\n",
    "idx = pd.MultiIndex.from_product([learning_rates, metrics_reported],\n",
    "                                 names=['learning_rate', 'metric'])\n",
    "\n",
    "historydf.columns = idx"
   ]
  },
  {
   "cell_type": "code",
   "execution_count": 21,
   "metadata": {},
   "outputs": [
    {
     "data": {
      "text/html": [
       "<div>\n",
       "<style>\n",
       "    .dataframe thead tr:only-child th {\n",
       "        text-align: right;\n",
       "    }\n",
       "\n",
       "    .dataframe thead th {\n",
       "        text-align: left;\n",
       "    }\n",
       "\n",
       "    .dataframe tbody tr th {\n",
       "        vertical-align: top;\n",
       "    }\n",
       "</style>\n",
       "<table border=\"1\" class=\"dataframe\">\n",
       "  <thead>\n",
       "    <tr>\n",
       "      <th>learning_rate</th>\n",
       "      <th colspan=\"2\" halign=\"left\">0.01</th>\n",
       "      <th colspan=\"2\" halign=\"left\">0.05</th>\n",
       "      <th colspan=\"2\" halign=\"left\">0.10</th>\n",
       "      <th colspan=\"2\" halign=\"left\">0.50</th>\n",
       "    </tr>\n",
       "    <tr>\n",
       "      <th>metric</th>\n",
       "      <th>acc</th>\n",
       "      <th>loss</th>\n",
       "      <th>acc</th>\n",
       "      <th>loss</th>\n",
       "      <th>acc</th>\n",
       "      <th>loss</th>\n",
       "      <th>acc</th>\n",
       "      <th>loss</th>\n",
       "    </tr>\n",
       "  </thead>\n",
       "  <tbody>\n",
       "    <tr>\n",
       "      <th>0</th>\n",
       "      <td>0.461458</td>\n",
       "      <td>0.890932</td>\n",
       "      <td>0.806250</td>\n",
       "      <td>0.482790</td>\n",
       "      <td>0.794792</td>\n",
       "      <td>0.469094</td>\n",
       "      <td>0.857292</td>\n",
       "      <td>0.355666</td>\n",
       "    </tr>\n",
       "    <tr>\n",
       "      <th>1</th>\n",
       "      <td>0.557292</td>\n",
       "      <td>0.721001</td>\n",
       "      <td>0.911458</td>\n",
       "      <td>0.337226</td>\n",
       "      <td>0.912500</td>\n",
       "      <td>0.285969</td>\n",
       "      <td>0.964583</td>\n",
       "      <td>0.135466</td>\n",
       "    </tr>\n",
       "    <tr>\n",
       "      <th>2</th>\n",
       "      <td>0.657292</td>\n",
       "      <td>0.616305</td>\n",
       "      <td>0.929167</td>\n",
       "      <td>0.277751</td>\n",
       "      <td>0.932292</td>\n",
       "      <td>0.229161</td>\n",
       "      <td>0.975000</td>\n",
       "      <td>0.098701</td>\n",
       "    </tr>\n",
       "    <tr>\n",
       "      <th>3</th>\n",
       "      <td>0.762500</td>\n",
       "      <td>0.549345</td>\n",
       "      <td>0.941667</td>\n",
       "      <td>0.240780</td>\n",
       "      <td>0.942708</td>\n",
       "      <td>0.193307</td>\n",
       "      <td>0.977083</td>\n",
       "      <td>0.081973</td>\n",
       "    </tr>\n",
       "    <tr>\n",
       "      <th>4</th>\n",
       "      <td>0.787500</td>\n",
       "      <td>0.503380</td>\n",
       "      <td>0.947917</td>\n",
       "      <td>0.214527</td>\n",
       "      <td>0.951042</td>\n",
       "      <td>0.168727</td>\n",
       "      <td>0.978125</td>\n",
       "      <td>0.072595</td>\n",
       "    </tr>\n",
       "    <tr>\n",
       "      <th>5</th>\n",
       "      <td>0.806250</td>\n",
       "      <td>0.469568</td>\n",
       "      <td>0.954167</td>\n",
       "      <td>0.194676</td>\n",
       "      <td>0.958333</td>\n",
       "      <td>0.150646</td>\n",
       "      <td>0.978125</td>\n",
       "      <td>0.066185</td>\n",
       "    </tr>\n",
       "    <tr>\n",
       "      <th>6</th>\n",
       "      <td>0.815625</td>\n",
       "      <td>0.442964</td>\n",
       "      <td>0.956250</td>\n",
       "      <td>0.179041</td>\n",
       "      <td>0.962500</td>\n",
       "      <td>0.136898</td>\n",
       "      <td>0.980208</td>\n",
       "      <td>0.061534</td>\n",
       "    </tr>\n",
       "    <tr>\n",
       "      <th>7</th>\n",
       "      <td>0.821875</td>\n",
       "      <td>0.421099</td>\n",
       "      <td>0.956250</td>\n",
       "      <td>0.166415</td>\n",
       "      <td>0.968750</td>\n",
       "      <td>0.126101</td>\n",
       "      <td>0.981250</td>\n",
       "      <td>0.057930</td>\n",
       "    </tr>\n",
       "    <tr>\n",
       "      <th>8</th>\n",
       "      <td>0.830208</td>\n",
       "      <td>0.402438</td>\n",
       "      <td>0.962500</td>\n",
       "      <td>0.155983</td>\n",
       "      <td>0.969792</td>\n",
       "      <td>0.117486</td>\n",
       "      <td>0.981250</td>\n",
       "      <td>0.055253</td>\n",
       "    </tr>\n",
       "    <tr>\n",
       "      <th>9</th>\n",
       "      <td>0.837500</td>\n",
       "      <td>0.386124</td>\n",
       "      <td>0.965625</td>\n",
       "      <td>0.147198</td>\n",
       "      <td>0.969792</td>\n",
       "      <td>0.110446</td>\n",
       "      <td>0.981250</td>\n",
       "      <td>0.052847</td>\n",
       "    </tr>\n",
       "  </tbody>\n",
       "</table>\n",
       "</div>"
      ],
      "text/plain": [
       "learning_rate      0.01                0.05                0.10            \\\n",
       "metric              acc      loss       acc      loss       acc      loss   \n",
       "0              0.461458  0.890932  0.806250  0.482790  0.794792  0.469094   \n",
       "1              0.557292  0.721001  0.911458  0.337226  0.912500  0.285969   \n",
       "2              0.657292  0.616305  0.929167  0.277751  0.932292  0.229161   \n",
       "3              0.762500  0.549345  0.941667  0.240780  0.942708  0.193307   \n",
       "4              0.787500  0.503380  0.947917  0.214527  0.951042  0.168727   \n",
       "5              0.806250  0.469568  0.954167  0.194676  0.958333  0.150646   \n",
       "6              0.815625  0.442964  0.956250  0.179041  0.962500  0.136898   \n",
       "7              0.821875  0.421099  0.956250  0.166415  0.968750  0.126101   \n",
       "8              0.830208  0.402438  0.962500  0.155983  0.969792  0.117486   \n",
       "9              0.837500  0.386124  0.965625  0.147198  0.969792  0.110446   \n",
       "\n",
       "learning_rate      0.50            \n",
       "metric              acc      loss  \n",
       "0              0.857292  0.355666  \n",
       "1              0.964583  0.135466  \n",
       "2              0.975000  0.098701  \n",
       "3              0.977083  0.081973  \n",
       "4              0.978125  0.072595  \n",
       "5              0.978125  0.066185  \n",
       "6              0.980208  0.061534  \n",
       "7              0.981250  0.057930  \n",
       "8              0.981250  0.055253  \n",
       "9              0.981250  0.052847  "
      ]
     },
     "execution_count": 21,
     "metadata": {},
     "output_type": "execute_result"
    }
   ],
   "source": [
    "historydf"
   ]
  },
  {
   "cell_type": "code",
   "execution_count": 22,
   "metadata": {},
   "outputs": [
    {
     "data": {
      "image/png": "[encoded data removed]",
      "text/plain": [
       "<matplotlib.figure.Figure at 0x1c2671fa20>"
      ]
     },
     "metadata": {},
     "output_type": "display_data"
    }
   ],
   "source": [
    "ax = plt.subplot(211)\n",
    "historydf.xs('loss', axis=1, level='metric').plot(ylim=(0,1), ax=ax)\n",
    "plt.title(\"Loss\")\n",
    "\n",
    "ax = plt.subplot(212)\n",
    "historydf.xs('acc', axis=1, level='metric').plot(ylim=(0,1), ax=ax)\n",
    "plt.title(\"Accuracy\")\n",
    "plt.xlabel(\"Epochs\")\n",
    "\n",
    "plt.tight_layout()"
   ]
  },
  {
   "cell_type": "markdown",
   "metadata": {},
   "source": [
    "### Batch Sizes"
   ]
  },
  {
   "cell_type": "code",
   "execution_count": 27,
   "metadata": {
    "collapsed": true
   },
   "outputs": [],
   "source": [
    "dflist = []\n",
    "\n",
    "batch_sizes = [8, 16, 32, 64, 128]\n",
    "\n",
    "for batch_size in batch_sizes:\n",
    "    K.clear_session()\n",
    "\n",
    "    model = Sequential()\n",
    "    model.add(Dense(1, input_shape=(4,), activation='sigmoid'))\n",
    "    model.compile(loss='binary_crossentropy',\n",
    "                  optimizer='sgd',\n",
    "                  metrics=['accuracy'])\n",
    "    h = model.fit(X_train, y_train, batch_size=batch_size, verbose=0)\n",
    "    \n",
    "    dflist.append(pd.DataFrame(h.history, index=h.epoch))"
   ]
  },
  {
   "cell_type": "code",
   "execution_count": 28,
   "metadata": {
    "collapsed": true
   },
   "outputs": [],
   "source": [
    "historydf = pd.concat(dflist, axis=1)\n",
    "metrics_reported = dflist[0].columns\n",
    "idx = pd.MultiIndex.from_product([batch_sizes, metrics_reported],\n",
    "                                 names=['batch_size', 'metric'])\n",
    "historydf.columns = idx"
   ]
  },
  {
   "cell_type": "code",
   "execution_count": 29,
   "metadata": {},
   "outputs": [
    {
     "data": {
      "text/html": [
       "<div>\n",
       "<style>\n",
       "    .dataframe thead tr:only-child th {\n",
       "        text-align: right;\n",
       "    }\n",
       "\n",
       "    .dataframe thead th {\n",
       "        text-align: left;\n",
       "    }\n",
       "\n",
       "    .dataframe tbody tr th {\n",
       "        vertical-align: top;\n",
       "    }\n",
       "</style>\n",
       "<table border=\"1\" class=\"dataframe\">\n",
       "  <thead>\n",
       "    <tr>\n",
       "      <th>batch_size</th>\n",
       "      <th colspan=\"2\" halign=\"left\">8</th>\n",
       "      <th colspan=\"2\" halign=\"left\">16</th>\n",
       "      <th colspan=\"2\" halign=\"left\">32</th>\n",
       "      <th colspan=\"2\" halign=\"left\">64</th>\n",
       "      <th colspan=\"2\" halign=\"left\">128</th>\n",
       "    </tr>\n",
       "    <tr>\n",
       "      <th>metric</th>\n",
       "      <th>acc</th>\n",
       "      <th>loss</th>\n",
       "      <th>acc</th>\n",
       "      <th>loss</th>\n",
       "      <th>acc</th>\n",
       "      <th>loss</th>\n",
       "      <th>acc</th>\n",
       "      <th>loss</th>\n",
       "      <th>acc</th>\n",
       "      <th>loss</th>\n",
       "    </tr>\n",
       "  </thead>\n",
       "  <tbody>\n",
       "    <tr>\n",
       "      <th>0</th>\n",
       "      <td>0.519792</td>\n",
       "      <td>0.764131</td>\n",
       "      <td>0.490625</td>\n",
       "      <td>0.915742</td>\n",
       "      <td>0.469792</td>\n",
       "      <td>0.814548</td>\n",
       "      <td>0.445833</td>\n",
       "      <td>0.990149</td>\n",
       "      <td>0.654167</td>\n",
       "      <td>0.580729</td>\n",
       "    </tr>\n",
       "    <tr>\n",
       "      <th>1</th>\n",
       "      <td>0.645833</td>\n",
       "      <td>0.650785</td>\n",
       "      <td>0.521875</td>\n",
       "      <td>0.792178</td>\n",
       "      <td>0.509375</td>\n",
       "      <td>0.768642</td>\n",
       "      <td>0.451042</td>\n",
       "      <td>0.955841</td>\n",
       "      <td>0.660417</td>\n",
       "      <td>0.568539</td>\n",
       "    </tr>\n",
       "    <tr>\n",
       "      <th>2</th>\n",
       "      <td>0.692708</td>\n",
       "      <td>0.575849</td>\n",
       "      <td>0.550000</td>\n",
       "      <td>0.692670</td>\n",
       "      <td>0.537500</td>\n",
       "      <td>0.728055</td>\n",
       "      <td>0.462500</td>\n",
       "      <td>0.922976</td>\n",
       "      <td>0.669792</td>\n",
       "      <td>0.556813</td>\n",
       "    </tr>\n",
       "    <tr>\n",
       "      <th>3</th>\n",
       "      <td>0.727083</td>\n",
       "      <td>0.520530</td>\n",
       "      <td>0.613542</td>\n",
       "      <td>0.614767</td>\n",
       "      <td>0.555208</td>\n",
       "      <td>0.692103</td>\n",
       "      <td>0.464583</td>\n",
       "      <td>0.891698</td>\n",
       "      <td>0.683333</td>\n",
       "      <td>0.545455</td>\n",
       "    </tr>\n",
       "    <tr>\n",
       "      <th>4</th>\n",
       "      <td>0.765625</td>\n",
       "      <td>0.476771</td>\n",
       "      <td>0.669792</td>\n",
       "      <td>0.554951</td>\n",
       "      <td>0.581250</td>\n",
       "      <td>0.660070</td>\n",
       "      <td>0.468750</td>\n",
       "      <td>0.861916</td>\n",
       "      <td>0.694792</td>\n",
       "      <td>0.534424</td>\n",
       "    </tr>\n",
       "    <tr>\n",
       "      <th>5</th>\n",
       "      <td>0.797917</td>\n",
       "      <td>0.440639</td>\n",
       "      <td>0.736458</td>\n",
       "      <td>0.508672</td>\n",
       "      <td>0.595833</td>\n",
       "      <td>0.631448</td>\n",
       "      <td>0.477083</td>\n",
       "      <td>0.833591</td>\n",
       "      <td>0.705208</td>\n",
       "      <td>0.524017</td>\n",
       "    </tr>\n",
       "    <tr>\n",
       "      <th>6</th>\n",
       "      <td>0.820833</td>\n",
       "      <td>0.409985</td>\n",
       "      <td>0.802083</td>\n",
       "      <td>0.472283</td>\n",
       "      <td>0.609375</td>\n",
       "      <td>0.605707</td>\n",
       "      <td>0.482292</td>\n",
       "      <td>0.806784</td>\n",
       "      <td>0.713542</td>\n",
       "      <td>0.513997</td>\n",
       "    </tr>\n",
       "    <tr>\n",
       "      <th>7</th>\n",
       "      <td>0.844792</td>\n",
       "      <td>0.383361</td>\n",
       "      <td>0.835417</td>\n",
       "      <td>0.442999</td>\n",
       "      <td>0.622917</td>\n",
       "      <td>0.582480</td>\n",
       "      <td>0.489583</td>\n",
       "      <td>0.781377</td>\n",
       "      <td>0.728125</td>\n",
       "      <td>0.504254</td>\n",
       "    </tr>\n",
       "    <tr>\n",
       "      <th>8</th>\n",
       "      <td>0.854167</td>\n",
       "      <td>0.360101</td>\n",
       "      <td>0.852083</td>\n",
       "      <td>0.418809</td>\n",
       "      <td>0.643750</td>\n",
       "      <td>0.561396</td>\n",
       "      <td>0.501042</td>\n",
       "      <td>0.757356</td>\n",
       "      <td>0.736458</td>\n",
       "      <td>0.494984</td>\n",
       "    </tr>\n",
       "    <tr>\n",
       "      <th>9</th>\n",
       "      <td>0.870833</td>\n",
       "      <td>0.339494</td>\n",
       "      <td>0.861458</td>\n",
       "      <td>0.398331</td>\n",
       "      <td>0.671875</td>\n",
       "      <td>0.542197</td>\n",
       "      <td>0.518750</td>\n",
       "      <td>0.734669</td>\n",
       "      <td>0.743750</td>\n",
       "      <td>0.486035</td>\n",
       "    </tr>\n",
       "  </tbody>\n",
       "</table>\n",
       "</div>"
      ],
      "text/plain": [
       "batch_size       8                   16                  32             \\\n",
       "metric           acc      loss       acc      loss       acc      loss   \n",
       "0           0.519792  0.764131  0.490625  0.915742  0.469792  0.814548   \n",
       "1           0.645833  0.650785  0.521875  0.792178  0.509375  0.768642   \n",
       "2           0.692708  0.575849  0.550000  0.692670  0.537500  0.728055   \n",
       "3           0.727083  0.520530  0.613542  0.614767  0.555208  0.692103   \n",
       "4           0.765625  0.476771  0.669792  0.554951  0.581250  0.660070   \n",
       "5           0.797917  0.440639  0.736458  0.508672  0.595833  0.631448   \n",
       "6           0.820833  0.409985  0.802083  0.472283  0.609375  0.605707   \n",
       "7           0.844792  0.383361  0.835417  0.442999  0.622917  0.582480   \n",
       "8           0.854167  0.360101  0.852083  0.418809  0.643750  0.561396   \n",
       "9           0.870833  0.339494  0.861458  0.398331  0.671875  0.542197   \n",
       "\n",
       "batch_size       64                  128            \n",
       "metric           acc      loss       acc      loss  \n",
       "0           0.445833  0.990149  0.654167  0.580729  \n",
       "1           0.451042  0.955841  0.660417  0.568539  \n",
       "2           0.462500  0.922976  0.669792  0.556813  \n",
       "3           0.464583  0.891698  0.683333  0.545455  \n",
       "4           0.468750  0.861916  0.694792  0.534424  \n",
       "5           0.477083  0.833591  0.705208  0.524017  \n",
       "6           0.482292  0.806784  0.713542  0.513997  \n",
       "7           0.489583  0.781377  0.728125  0.504254  \n",
       "8           0.501042  0.757356  0.736458  0.494984  \n",
       "9           0.518750  0.734669  0.743750  0.486035  "
      ]
     },
     "execution_count": 29,
     "metadata": {},
     "output_type": "execute_result"
    }
   ],
   "source": [
    "historydf"
   ]
  },
  {
   "cell_type": "code",
   "execution_count": 30,
   "metadata": {},
   "outputs": [
    {
     "data": {
      "image/png": "[encoded data removed]",
      "text/plain": [
       "<matplotlib.figure.Figure at 0x1c26696c50>"
      ]
     },
     "metadata": {},
     "output_type": "display_data"
    }
   ],
   "source": [
    "ax = plt.subplot(211)\n",
    "historydf.xs('loss', axis=1, level='metric').plot(ylim=(0,1), ax=ax)\n",
    "plt.title(\"Loss\")\n",
    "\n",
    "ax = plt.subplot(212)\n",
    "historydf.xs('acc', axis=1, level='metric').plot(ylim=(0,1), ax=ax)\n",
    "plt.title(\"Accuracy\")\n",
    "plt.xlabel(\"Epochs\")\n",
    "\n",
    "plt.tight_layout()"
   ]
  },
  {
   "cell_type": "markdown",
   "metadata": {},
   "source": [
    "## Optimizers"
   ]
  },
  {
   "cell_type": "code",
   "execution_count": 31,
   "metadata": {
    "collapsed": true
   },
   "outputs": [],
   "source": [
    "from keras.optimizers import SGD, Adam, Adagrad, RMSprop"
   ]
  },
  {
   "cell_type": "code",
   "execution_count": 32,
   "metadata": {
    "collapsed": true
   },
   "outputs": [],
   "source": [
    "dflist = []\n",
    "\n",
    "optimizers = ['SGD(lr=0.01)',\n",
    "              'SGD(lr=0.01, momentum=0.3)',\n",
    "              'SGD(lr=0.01, momentum=0.3, nesterov=True)',  \n",
    "              'Adam(lr=0.01)',\n",
    "              'Adagrad(lr=0.01)',\n",
    "              'RMSprop(lr=0.01)']\n",
    "\n",
    "for opt_name in optimizers:\n",
    "\n",
    "    K.clear_session()\n",
    "    \n",
    "    model = Sequential()\n",
    "    model.add(Dense(1, input_shape=(4,), activation='sigmoid'))\n",
    "    model.compile(loss='binary_crossentropy',\n",
    "                  optimizer=eval(opt_name),\n",
    "                  metrics=['accuracy'])\n",
    "    h = model.fit(X_train, y_train, batch_size=16, epochs=5, verbose=0)\n",
    "    \n",
    "    dflist.append(pd.DataFrame(h.history, index=h.epoch))"
   ]
  },
  {
   "cell_type": "code",
   "execution_count": 33,
   "metadata": {
    "collapsed": true
   },
   "outputs": [],
   "source": [
    "historydf = pd.concat(dflist, axis=1)\n",
    "metrics_reported = dflist[0].columns\n",
    "idx = pd.MultiIndex.from_product([optimizers, metrics_reported],\n",
    "                                 names=['optimizers', 'metric'])\n",
    "historydf.columns = idx"
   ]
  },
  {
   "cell_type": "code",
   "execution_count": 34,
   "metadata": {},
   "outputs": [
    {
     "data": {
      "image/png": "[encoded data removed]",
      "text/plain": [
       "<matplotlib.figure.Figure at 0x1c26d7ccc0>"
      ]
     },
     "metadata": {},
     "output_type": "display_data"
    }
   ],
   "source": [
    "ax = plt.subplot(211)\n",
    "historydf.xs('loss', axis=1, level='metric').plot(ylim=(0,1), ax=ax)\n",
    "plt.title(\"Loss\")\n",
    "\n",
    "ax = plt.subplot(212)\n",
    "historydf.xs('acc', axis=1, level='metric').plot(ylim=(0,1), ax=ax)\n",
    "plt.title(\"Accuracy\")\n",
    "plt.xlabel(\"Epochs\")\n",
    "\n",
    "plt.tight_layout()"
   ]
  }
 ],
 "metadata": {
  "kernelspec": {
   "display_name": "Python 3",
   "language": "python",
   "name": "python3"
  },
  "language_info": {
   "codemirror_mode": {
    "name": "ipython",
    "version": 3
   },
   "file_extension": ".py",
   "mimetype": "text/x-python",
   "name": "python",
   "nbconvert_exporter": "python",
   "pygments_lexer": "ipython3",
   "version": "3.6.3"
  }
 },
 "nbformat": 4,
 "nbformat_minor": 2
}

{
 "cells": [
  {
   "cell_type": "code",
   "execution_count": 2,
   "metadata": {},
   "outputs": [],
   "source": [
    "import pandas as pd\n",
    "from keras.models import Sequential\n",
    "from keras.layers import Dense, Activation\n",
    "from keras.callbacks import ModelCheckpoint\n",
    "import numpy as np\n",
    "import matplotlib.pyplot as plt"
   ]
  },
  {
   "cell_type": "code",
   "execution_count": 3,
   "metadata": {
    "collapsed": true
   },
   "outputs": [],
   "source": [
    "def normalize(column):\n",
    "    return (column - column.mean()) / (column.max() - column.min())"
   ]
  },
  {
   "cell_type": "code",
   "execution_count": 8,
   "metadata": {},
   "outputs": [
    {
     "name": "stdout",
     "output_type": "stream",
     "text": [
      "Index(['PassengerId', 'Survived', 'Pclass', 'Name', 'Sex', 'Age', 'SibSp',\n",
      "       'Parch', 'Ticket', 'Fare', 'Cabin', 'Embarked'],\n",
      "      dtype='object')\n"
     ]
    }
   ],
   "source": [
    "ds = pd.read_csv('/Users/keeyong//Downloads/2018-march/titanic.csv')\n",
    "\n",
    "print(ds.keys())"
   ]
  },
  {
   "cell_type": "code",
   "execution_count": 9,
   "metadata": {},
   "outputs": [
    {
     "name": "stdout",
     "output_type": "stream",
     "text": [
      "   PassengerId  Survived  Pclass  \\\n",
      "0            1         0       3   \n",
      "1            2         1       1   \n",
      "2            3         1       3   \n",
      "3            4         1       1   \n",
      "4            5         0       3   \n",
      "\n",
      "                                                Name     Sex   Age  SibSp  \\\n",
      "0                            Braund, Mr. Owen Harris    male  22.0      1   \n",
      "1  Cumings, Mrs. John Bradley (Florence Briggs Th...  female  38.0      1   \n",
      "2                             Heikkinen, Miss. Laina  female  26.0      0   \n",
      "3       Futrelle, Mrs. Jacques Heath (Lily May Peel)  female  35.0      1   \n",
      "4                           Allen, Mr. William Henry    male  35.0      0   \n",
      "\n",
      "   Parch            Ticket     Fare Cabin Embarked  \n",
      "0      0         A/5 21171   7.2500   NaN        S  \n",
      "1      0          PC 17599  71.2833   C85        C  \n",
      "2      0  STON/O2. 3101282   7.9250   NaN        S  \n",
      "3      0            113803  53.1000  C123        S  \n",
      "4      0            373450   8.0500   NaN        S  \n"
     ]
    }
   ],
   "source": [
    "print(ds.head())"
   ]
  },
  {
   "cell_type": "code",
   "execution_count": 10,
   "metadata": {},
   "outputs": [
    {
     "name": "stdout",
     "output_type": "stream",
     "text": [
      "['S' 'C' 'Q' nan]\n"
     ]
    }
   ],
   "source": [
    "print(ds['Embarked'].unique())"
   ]
  },
  {
   "cell_type": "code",
   "execution_count": 11,
   "metadata": {
    "collapsed": true
   },
   "outputs": [],
   "source": [
    "ds['Sex'].replace('female', 1, inplace=True)\n",
    "ds['Sex'].replace('male', 2, inplace=True)\n",
    "ds['Age'].fillna(ds['Age'].mean(), inplace=True)\n",
    "ds.dropna(subset=['Fare', 'Embarked'], inplace=True, how='any')\n",
    "\n",
    "ds['Embarked'].replace('S', 1, inplace=True)\n",
    "ds['Embarked'].replace('C', 2, inplace=True)\n",
    "ds['Embarked'].replace('Q', 3, inplace=True)\n",
    "\n",
    "age_norm = normalize(ds['Age'])\n",
    "pclass_norm = normalize(ds['Pclass'])\n",
    "sex_norm = normalize(ds['Sex'])\n",
    "sibsp_norm = normalize(ds['SibSp'])\n",
    "parch_norm = normalize(ds['Parch'])\n",
    "embarked_norm = normalize(ds['Embarked'])\n",
    "fare_norm = normalize(ds['Fare'])"
   ]
  },
  {
   "cell_type": "code",
   "execution_count": 12,
   "metadata": {
    "collapsed": true
   },
   "outputs": [],
   "source": [
    "X_train = np.asarray(pd.concat([age_norm, pclass_norm, sex_norm, sibsp_norm, parch_norm, embarked_norm, fare_norm], axis=1, join='inner'))\n",
    "Y_train = np.asarray(ds['Survived'])"
   ]
  },
  {
   "cell_type": "code",
   "execution_count": 14,
   "metadata": {},
   "outputs": [],
   "source": [
    "model = Sequential()\n",
    "\n",
    "model.add(Dense(units=10, input_dim=7))\n",
    "model.add(Activation(\"relu\"))\n",
    "model.add(Dense(units=1))\n",
    "model.add(Activation(\"linear\"))\n",
    "\n",
    "model.compile(loss='binary_crossentropy', optimizer='sgd', metrics=['accuracy'])"
   ]
  },
  {
   "cell_type": "code",
   "execution_count": 18,
   "metadata": {},
   "outputs": [
    {
     "name": "stdout",
     "output_type": "stream",
     "text": [
      "Epoch 00000: acc improved from -inf to 0.79167, saving model to weights.best.hdf5\n",
      "Epoch 00001: acc did not improve\n",
      "Epoch 00002: acc improved from 0.79167 to 0.79500, saving model to weights.best.hdf5\n",
      "Epoch 00003: acc did not improve\n",
      "Epoch 00004: acc did not improve\n",
      "Epoch 00005: acc did not improve\n",
      "Epoch 00006: acc improved from 0.79500 to 0.80000, saving model to weights.best.hdf5\n",
      "Epoch 00007: acc did not improve\n",
      "Epoch 00008: acc did not improve\n",
      "Epoch 00009: acc did not improve\n",
      "Epoch 00010: acc did not improve\n",
      "Epoch 00011: acc did not improve\n",
      "Epoch 00012: acc improved from 0.80000 to 0.80333, saving model to weights.best.hdf5\n",
      "Epoch 00013: acc improved from 0.80333 to 0.80500, saving model to weights.best.hdf5\n",
      "Epoch 00014: acc did not improve\n",
      "Epoch 00015: acc did not improve\n",
      "Epoch 00016: acc did not improve\n",
      "Epoch 00017: acc improved from 0.80500 to 0.80500, saving model to weights.best.hdf5\n",
      "Epoch 00018: acc did not improve\n",
      "Epoch 00019: acc did not improve\n",
      "Epoch 00020: acc did not improve\n",
      "Epoch 00021: acc did not improve\n",
      "Epoch 00022: acc did not improve\n",
      "Epoch 00023: acc did not improve\n",
      "Epoch 00024: acc improved from 0.80500 to 0.80833, saving model to weights.best.hdf5\n",
      "Epoch 00025: acc did not improve\n",
      "Epoch 00026: acc did not improve\n",
      "Epoch 00027: acc did not improve\n",
      "Epoch 00028: acc did not improve\n",
      "Epoch 00029: acc did not improve\n",
      "Epoch 00030: acc did not improve\n",
      "Epoch 00031: acc did not improve\n",
      "Epoch 00032: acc did not improve\n",
      "Epoch 00033: acc did not improve\n",
      "Epoch 00034: acc did not improve\n",
      "Epoch 00035: acc did not improve\n",
      "Epoch 00036: acc did not improve\n",
      "Epoch 00037: acc did not improve\n",
      "Epoch 00038: acc did not improve\n",
      "Epoch 00039: acc did not improve\n"
     ]
    }
   ],
   "source": [
    "filepath = 'weights.best.hdf5'\n",
    "\n",
    "checkpoint = ModelCheckpoint(filepath, monitor='acc', verbose=1, save_best_only=True, mode='max')\n",
    "callbacks_list = [checkpoint]\n",
    "history = model.fit(X_train[:600], Y_train[:600], callbacks=callbacks_list, epochs=40, batch_size=32, verbose=0)"
   ]
  },
  {
   "cell_type": "code",
   "execution_count": null,
   "metadata": {
    "collapsed": true
   },
   "outputs": [],
   "source": []
  }
 ],
 "metadata": {
  "kernelspec": {
   "display_name": "Python 3",
   "language": "python",
   "name": "python3"
  },
  "language_info": {
   "codemirror_mode": {
    "name": "ipython",
    "version": 3
   },
   "file_extension": ".py",
   "mimetype": "text/x-python",
   "name": "python",
   "nbconvert_exporter": "python",
   "pygments_lexer": "ipython3",
   "version": "3.6.3"
  }
 },
 "nbformat": 4,
 "nbformat_minor": 2
}

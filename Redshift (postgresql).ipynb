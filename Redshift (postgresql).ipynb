{
 "cells": [
  {
   "attachments": {},
   "cell_type": "markdown",
   "metadata": {},
   "source": [
    "# Postgresql module 임포트하기\n",
    "psycopg2 모듈이 설치되어 있지 않다면 다음을 실행\n",
    "<blockquote>\n",
    "conda install -c anaconda psycopg2=2.6.2\n",
    "</blockquote>"
   ]
  },
  {
   "cell_type": "code",
   "execution_count": 1,
   "metadata": {
    "collapsed": true
   },
   "outputs": [],
   "source": [
    "import psycopg2"
   ]
  },
  {
   "cell_type": "markdown",
   "metadata": {},
   "source": [
    "# Redshift instance를 연결하기"
   ]
  },
  {
   "cell_type": "code",
   "execution_count": 15,
   "metadata": {},
   "outputs": [],
   "source": [
    "conn = psycopg2.connect(\"dbname='prod' user='admin' host='13.124.7.179' password='Kookmin1' port='5439'\")\n",
    "conn.autocommit = True"
   ]
  },
  {
   "cell_type": "code",
   "execution_count": 16,
   "metadata": {
    "collapsed": true
   },
   "outputs": [],
   "source": [
    "cur = conn.cursor()"
   ]
  },
  {
   "cell_type": "markdown",
   "metadata": {},
   "source": [
    "# JOIN SQL을 실행해보기\n",
    "#### INNER JOIN"
   ]
  },
  {
   "cell_type": "code",
   "execution_count": 10,
   "metadata": {},
   "outputs": [],
   "source": [
    "sql = \"SELECT * FROM student s JOIN zipcode z ON s.zipcode_id = z.id;\"\n",
    "cur.execute(sql)"
   ]
  },
  {
   "cell_type": "code",
   "execution_count": 11,
   "metadata": {},
   "outputs": [
    {
     "name": "stdout",
     "output_type": "stream",
     "text": [
      "('keeyong', 'han', 1000, 1000, 'california', 'san jose')\n",
      "('misook', 'kim', 1000, 1000, 'california', 'san jose')\n",
      "('claire', 'han', 1001, 1001, 'california', 'santa clara')\n",
      "('chanwoo', 'park', 1001, 1001, 'california', 'santa clara')\n",
      "('benjamin', 'han', 1001, 1001, 'california', 'santa clara')\n",
      "('chanhee', 'park', 1001, 1001, 'california', 'santa clara')\n",
      "('claire', 'hough', 1002, 1002, 'california', 'palo alto')\n",
      "('james', 'hou', 1002, 1002, 'california', 'palo alto')\n"
     ]
    }
   ],
   "source": [
    "rows = cur.fetchall()\n",
    "for row in rows:\n",
    "    print(row)"
   ]
  },
  {
   "cell_type": "markdown",
   "metadata": {},
   "source": [
    "#### OUTER JOIN"
   ]
  },
  {
   "cell_type": "code",
   "execution_count": 17,
   "metadata": {},
   "outputs": [
    {
     "name": "stdout",
     "output_type": "stream",
     "text": [
      "('keeyong', 'han', 1000, 1000, 'california', 'san jose')\n",
      "('misook', 'kim', 1000, 1000, 'california', 'san jose')\n",
      "('claire', 'hough', 1002, 1002, 'california', 'palo alto')\n",
      "('james', 'hou', 1002, 1002, 'california', 'palo alto')\n",
      "('claire', 'han', 1001, 1001, 'california', 'santa clara')\n",
      "('chanwoo', 'park', 1001, 1001, 'california', 'santa clara')\n",
      "('benjamin', 'han', 1001, 1001, 'california', 'santa clara')\n",
      "('chanhee', 'park', 1001, 1001, 'california', 'santa clara')\n",
      "('steve', 'jung', 1003, None, None, None)\n"
     ]
    }
   ],
   "source": [
    "sql = \"SELECT * FROM student s FULL OUTER JOIN zipcode z ON s.zipcode_id = z.id;\"\n",
    "cur.execute(sql)\n",
    "rows = cur.fetchall()\n",
    "for row in rows:\n",
    "    print(row)"
   ]
  },
  {
   "cell_type": "markdown",
   "metadata": {},
   "source": [
    "# 커넥션 정리하기"
   ]
  },
  {
   "cell_type": "code",
   "execution_count": null,
   "metadata": {
    "collapsed": true
   },
   "outputs": [],
   "source": [
    "cur.close()\n",
    "conn.close()"
   ]
  }
 ],
 "metadata": {
  "kernelspec": {
   "display_name": "Python 3",
   "language": "python",
   "name": "python3"
  },
  "language_info": {
   "codemirror_mode": {
    "name": "ipython",
    "version": 3
   },
   "file_extension": ".py",
   "mimetype": "text/x-python",
   "name": "python",
   "nbconvert_exporter": "python",
   "pygments_lexer": "ipython3",
   "version": "3.6.1"
  }
 },
 "nbformat": 4,
 "nbformat_minor": 2
}

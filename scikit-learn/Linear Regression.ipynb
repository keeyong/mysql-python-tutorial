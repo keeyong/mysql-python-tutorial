{
 "cells": [
  {
   "cell_type": "markdown",
   "metadata": {},
   "source": [
    "<H1>Linear Regression and Classification</H1><p>\n",
    "Linear regression의 대상이 되는 트레이닝셋 데이터는 미국 성인의 키/몸무게 파일을 이용해보겠습니다. 키를 가지고 몸무게를 예측해보는 것입니다."
   ]
  },
  {
   "cell_type": "markdown",
   "metadata": {},
   "source": [
    "먼저 관련 파이썬 모듈들을 임포트합니다"
   ]
  },
  {
   "cell_type": "code",
   "execution_count": 2,
   "metadata": {
    "collapsed": true
   },
   "outputs": [],
   "source": [
    "%matplotlib inline\n",
    "import matplotlib.pyplot as plt\n",
    "import pandas as pd\n",
    "import numpy as np\n",
    "import sklearn\n",
    "import scipy.stats as stats"
   ]
  },
  {
   "cell_type": "markdown",
   "metadata": {},
   "source": [
    "이제 키/몸무게 파일을 로드해보겠습니다. 이제부터 pandas 모듈을 주로 사용합니다."
   ]
  },
  {
   "cell_type": "code",
   "execution_count": 3,
   "metadata": {
    "collapsed": true
   },
   "outputs": [],
   "source": [
    "df = pd.read_csv('/Users/khan//Documents/deeplearning/zero_to_deep_learning_udemy/data/weight-height.csv')"
   ]
  },
  {
   "cell_type": "markdown",
   "metadata": {},
   "source": [
    "트레이닝 셋이 로드하면 첫번째로 해야할 일은 어떤 필드들이 있고 그 필드에 존재하는 값들의 범위, 존재여부 등을 확인해보는 것입니다. 먼저 파일의 처음 몇 레코드를 보겠습니다."
   ]
  },
  {
   "cell_type": "code",
   "execution_count": 7,
   "metadata": {},
   "outputs": [
    {
     "data": {
      "text/html": [
       "<div>\n",
       "<style>\n",
       "    .dataframe thead tr:only-child th {\n",
       "        text-align: right;\n",
       "    }\n",
       "\n",
       "    .dataframe thead th {\n",
       "        text-align: left;\n",
       "    }\n",
       "\n",
       "    .dataframe tbody tr th {\n",
       "        vertical-align: top;\n",
       "    }\n",
       "</style>\n",
       "<table border=\"1\" class=\"dataframe\">\n",
       "  <thead>\n",
       "    <tr style=\"text-align: right;\">\n",
       "      <th></th>\n",
       "      <th>Gender</th>\n",
       "      <th>Height</th>\n",
       "      <th>Weight</th>\n",
       "    </tr>\n",
       "  </thead>\n",
       "  <tbody>\n",
       "    <tr>\n",
       "      <th>0</th>\n",
       "      <td>Male</td>\n",
       "      <td>73.847017</td>\n",
       "      <td>241.893563</td>\n",
       "    </tr>\n",
       "    <tr>\n",
       "      <th>1</th>\n",
       "      <td>Male</td>\n",
       "      <td>68.781904</td>\n",
       "      <td>162.310473</td>\n",
       "    </tr>\n",
       "    <tr>\n",
       "      <th>2</th>\n",
       "      <td>Male</td>\n",
       "      <td>74.110105</td>\n",
       "      <td>212.740856</td>\n",
       "    </tr>\n",
       "    <tr>\n",
       "      <th>3</th>\n",
       "      <td>Male</td>\n",
       "      <td>71.730978</td>\n",
       "      <td>220.042470</td>\n",
       "    </tr>\n",
       "    <tr>\n",
       "      <th>4</th>\n",
       "      <td>Male</td>\n",
       "      <td>69.881796</td>\n",
       "      <td>206.349801</td>\n",
       "    </tr>\n",
       "  </tbody>\n",
       "</table>\n",
       "</div>"
      ],
      "text/plain": [
       "  Gender     Height      Weight\n",
       "0   Male  73.847017  241.893563\n",
       "1   Male  68.781904  162.310473\n",
       "2   Male  74.110105  212.740856\n",
       "3   Male  71.730978  220.042470\n",
       "4   Male  69.881796  206.349801"
      ]
     },
     "execution_count": 7,
     "metadata": {},
     "output_type": "execute_result"
    }
   ],
   "source": [
    "df.head()"
   ]
  },
  {
   "cell_type": "markdown",
   "metadata": {},
   "source": [
    "이제 이 데이터들을 한번 시각화해서 보겠습니다."
   ]
  },
  {
   "cell_type": "code",
   "execution_count": 11,
   "metadata": {},
   "outputs": [
    {
     "data": {
      "text/plain": [
       "<matplotlib.axes._subplots.AxesSubplot at 0x110a79390>"
      ]
     },
     "execution_count": 11,
     "metadata": {},
     "output_type": "execute_result"
    },
    {
     "data": {
      "image/png": "[encoded data removed]",
      "text/plain": [
       "<matplotlib.figure.Figure at 0x1141b1160>"
      ]
     },
     "metadata": {},
     "output_type": "display_data"
    }
   ],
   "source": [
    "df.plot(kind='scatter',\n",
    "        x='Height',\n",
    "        y='Weight',\n",
    "        title='성인 키/몸무게')"
   ]
  },
  {
   "cell_type": "code",
   "execution_count": 13,
   "metadata": {},
   "outputs": [
    {
     "data": {
      "text/plain": [
       "[<matplotlib.lines.Line2D at 0x11441ff98>]"
      ]
     },
     "execution_count": 13,
     "metadata": {},
     "output_type": "execute_result"
    },
    {
     "data": {
      "image/png": "[encoded data removed]",
      "text/plain": [
       "<matplotlib.figure.Figure at 0x1143ed630>"
      ]
     },
     "metadata": {},
     "output_type": "display_data"
    }
   ],
   "source": [
    "df.plot(kind='scatter',\n",
    "        x='Height',\n",
    "        y='Weight',\n",
    "        title='성인 키/몸무게')\n",
    "# Here we're plotting the red line 'by hand' with fixed values\n",
    "# We'll try to learn this line with an algorithm below\n",
    "plt.plot([55, 78], [75, 250], color='red', linewidth=3)"
   ]
  },
  {
   "cell_type": "markdown",
   "metadata": {},
   "source": [
    "이제 이 그래프위에 실제로 직선을 그려가면서 이 패턴에 가장 최적화된 직선이 무엇일지 알아보겠습니다. 먼저 기울기가 w이고 y 절편이 b인 직선을 정의해보겠습니다."
   ]
  },
  {
   "cell_type": "code",
   "execution_count": 15,
   "metadata": {
    "collapsed": true
   },
   "outputs": [],
   "source": [
    "def line(x, w=0, b=0):\n",
    "    return x * w + b"
   ]
  },
  {
   "cell_type": "code",
   "execution_count": 16,
   "metadata": {
    "collapsed": true
   },
   "outputs": [],
   "source": [
    "x = np.linspace(55, 80, 100)"
   ]
  },
  {
   "cell_type": "code",
   "execution_count": 17,
   "metadata": {},
   "outputs": [
    {
     "data": {
      "text/plain": [
       "array([ 55.        ,  55.25252525,  55.50505051,  55.75757576,\n",
       "        56.01010101,  56.26262626,  56.51515152,  56.76767677,\n",
       "        57.02020202,  57.27272727,  57.52525253,  57.77777778,\n",
       "        58.03030303,  58.28282828,  58.53535354,  58.78787879,\n",
       "        59.04040404,  59.29292929,  59.54545455,  59.7979798 ,\n",
       "        60.05050505,  60.3030303 ,  60.55555556,  60.80808081,\n",
       "        61.06060606,  61.31313131,  61.56565657,  61.81818182,\n",
       "        62.07070707,  62.32323232,  62.57575758,  62.82828283,\n",
       "        63.08080808,  63.33333333,  63.58585859,  63.83838384,\n",
       "        64.09090909,  64.34343434,  64.5959596 ,  64.84848485,\n",
       "        65.1010101 ,  65.35353535,  65.60606061,  65.85858586,\n",
       "        66.11111111,  66.36363636,  66.61616162,  66.86868687,\n",
       "        67.12121212,  67.37373737,  67.62626263,  67.87878788,\n",
       "        68.13131313,  68.38383838,  68.63636364,  68.88888889,\n",
       "        69.14141414,  69.39393939,  69.64646465,  69.8989899 ,\n",
       "        70.15151515,  70.4040404 ,  70.65656566,  70.90909091,\n",
       "        71.16161616,  71.41414141,  71.66666667,  71.91919192,\n",
       "        72.17171717,  72.42424242,  72.67676768,  72.92929293,\n",
       "        73.18181818,  73.43434343,  73.68686869,  73.93939394,\n",
       "        74.19191919,  74.44444444,  74.6969697 ,  74.94949495,\n",
       "        75.2020202 ,  75.45454545,  75.70707071,  75.95959596,\n",
       "        76.21212121,  76.46464646,  76.71717172,  76.96969697,\n",
       "        77.22222222,  77.47474747,  77.72727273,  77.97979798,\n",
       "        78.23232323,  78.48484848,  78.73737374,  78.98989899,\n",
       "        79.24242424,  79.49494949,  79.74747475,  80.        ])"
      ]
     },
     "execution_count": 17,
     "metadata": {},
     "output_type": "execute_result"
    }
   ],
   "source": [
    "x"
   ]
  },
  {
   "cell_type": "code",
   "execution_count": 18,
   "metadata": {
    "collapsed": true
   },
   "outputs": [],
   "source": [
    "yhat = line(x, w=0, b=0)"
   ]
  },
  {
   "cell_type": "code",
   "execution_count": 19,
   "metadata": {},
   "outputs": [
    {
     "data": {
      "text/plain": [
       "array([ 0.,  0.,  0.,  0.,  0.,  0.,  0.,  0.,  0.,  0.,  0.,  0.,  0.,\n",
       "        0.,  0.,  0.,  0.,  0.,  0.,  0.,  0.,  0.,  0.,  0.,  0.,  0.,\n",
       "        0.,  0.,  0.,  0.,  0.,  0.,  0.,  0.,  0.,  0.,  0.,  0.,  0.,\n",
       "        0.,  0.,  0.,  0.,  0.,  0.,  0.,  0.,  0.,  0.,  0.,  0.,  0.,\n",
       "        0.,  0.,  0.,  0.,  0.,  0.,  0.,  0.,  0.,  0.,  0.,  0.,  0.,\n",
       "        0.,  0.,  0.,  0.,  0.,  0.,  0.,  0.,  0.,  0.,  0.,  0.,  0.,\n",
       "        0.,  0.,  0.,  0.,  0.,  0.,  0.,  0.,  0.,  0.,  0.,  0.,  0.,\n",
       "        0.,  0.,  0.,  0.,  0.,  0.,  0.,  0.,  0.])"
      ]
     },
     "execution_count": 19,
     "metadata": {},
     "output_type": "execute_result"
    }
   ],
   "source": [
    "yhat"
   ]
  },
  {
   "cell_type": "code",
   "execution_count": 20,
   "metadata": {},
   "outputs": [
    {
     "data": {
      "text/plain": [
       "[<matplotlib.lines.Line2D at 0x1143f4668>]"
      ]
     },
     "execution_count": 20,
     "metadata": {},
     "output_type": "execute_result"
    },
    {
     "data": {
      "image/png": "[encoded data removed]",
      "text/plain": [
       "<matplotlib.figure.Figure at 0x114473dd8>"
      ]
     },
     "metadata": {},
     "output_type": "display_data"
    }
   ],
   "source": [
    "df.plot(kind='scatter',\n",
    "        x='Height',\n",
    "        y='Weight',\n",
    "        title='성인 키/몸무게')\n",
    "plt.plot(x, yhat, color='red', linewidth=3)"
   ]
  },
  {
   "cell_type": "markdown",
   "metadata": {},
   "source": [
    "비용 함수 정의"
   ]
  },
  {
   "cell_type": "code",
   "execution_count": 7,
   "metadata": {
    "collapsed": true
   },
   "outputs": [],
   "source": [
    "def mean_squared_error(y_true, y_pred):\n",
    "    s = (y_true - y_pred)**2\n",
    "    return s.mean()"
   ]
  },
  {
   "cell_type": "code",
   "execution_count": 10,
   "metadata": {
    "collapsed": true
   },
   "outputs": [],
   "source": [
    "X = df[['Height']].values\n",
    "y_true = df['Weight'].values"
   ]
  },
  {
   "cell_type": "code",
   "execution_count": 23,
   "metadata": {},
   "outputs": [
    {
     "data": {
      "text/plain": [
       "array([ 241.89356318,  162.31047252,  212.74085556, ...,  128.47531878,\n",
       "        163.85246135,  113.64910268])"
      ]
     },
     "execution_count": 23,
     "metadata": {},
     "output_type": "execute_result"
    }
   ],
   "source": [
    "y_true"
   ]
  },
  {
   "cell_type": "code",
   "execution_count": 24,
   "metadata": {
    "collapsed": true
   },
   "outputs": [],
   "source": [
    "y_pred = line(X)"
   ]
  },
  {
   "cell_type": "code",
   "execution_count": 25,
   "metadata": {},
   "outputs": [
    {
     "data": {
      "text/plain": [
       "array([[ 0.],\n",
       "       [ 0.],\n",
       "       [ 0.],\n",
       "       ..., \n",
       "       [ 0.],\n",
       "       [ 0.],\n",
       "       [ 0.]])"
      ]
     },
     "execution_count": 25,
     "metadata": {},
     "output_type": "execute_result"
    }
   ],
   "source": [
    "y_pred"
   ]
  },
  {
   "cell_type": "code",
   "execution_count": 26,
   "metadata": {},
   "outputs": [
    {
     "data": {
      "text/plain": [
       "27093.83757456157"
      ]
     },
     "execution_count": 26,
     "metadata": {},
     "output_type": "execute_result"
    }
   ],
   "source": [
    "mean_squared_error(y_true, y_pred.ravel())"
   ]
  },
  {
   "cell_type": "markdown",
   "metadata": {},
   "source": [
    "각자 w와 b의 값을 바꿔가면서 플로팅을 해보면서 비용함수의 값이 어떻게 바뀌는지 보기 바랍니다"
   ]
  },
  {
   "cell_type": "code",
   "execution_count": null,
   "metadata": {
    "collapsed": true
   },
   "outputs": [],
   "source": []
  },
  {
   "cell_type": "markdown",
   "metadata": {},
   "source": [
    "w의 값을 고정하고 b의 값만 바꿀 경우 비용이 어떻게 감소하는지 살펴봅시다. 비용의 변화를 그래프로 그려보겠습니다."
   ]
  },
  {
   "cell_type": "code",
   "execution_count": 30,
   "metadata": {},
   "outputs": [
    {
     "data": {
      "text/plain": [
       "<matplotlib.text.Text at 0x114c5f8d0>"
      ]
     },
     "execution_count": 30,
     "metadata": {},
     "output_type": "execute_result"
    },
    {
     "data": {
      "image/png": "[encoded data removed]",
      "text/plain": [
       "<matplotlib.figure.Figure at 0x1148f5fd0>"
      ]
     },
     "metadata": {},
     "output_type": "display_data"
    }
   ],
   "source": [
    "plt.figure(figsize=(10, 5))\n",
    "# we are going to draw 2 plots in the same figure\n",
    "# first plot, data and a few lines\n",
    "ax1 = plt.subplot(121)\n",
    "df.plot(kind='scatter',\n",
    "        x='Height',\n",
    "        y='Weight',\n",
    "        title='Weight and Height in adults', ax=ax1)\n",
    "# let's explore the cost function for a few values of b between -100 and +150\n",
    "bbs = np.array([-100, -50, 0, 50, 100, 150])\n",
    "mses = []  # we will append the values of the cost here, for each line\n",
    "for b in bbs:\n",
    "    y_pred = line(X, w=2, b=b)\n",
    "    mse = mean_squared_error(y_true, y_pred)\n",
    "    mses.append(mse)\n",
    "    plt.plot(X, y_pred)\n",
    "    \n",
    "\n",
    "# second plot: Cost function\n",
    "ax2 = plt.subplot(122)\n",
    "plt.plot(bbs, mses, 'o-')\n",
    "plt.title('Cost as a function of b')\n",
    "plt.xlabel('b')"
   ]
  },
  {
   "cell_type": "markdown",
   "metadata": {},
   "source": [
    "## 이제 scikit learn의 linear regression을 실행해보겠습니다.\n",
    "#### 성별과 신장 필드의 값을 바탕으로 트레이닝 셋의 feature를 만듭니다"
   ]
  },
  {
   "cell_type": "code",
   "execution_count": 13,
   "metadata": {},
   "outputs": [],
   "source": [
    "# titanic_X = titanic_X[:, [1, 4, 3]]\n",
    "X = df[['Gender', 'Height']].values\n",
    "y_true = df['Weight'].values"
   ]
  },
  {
   "cell_type": "code",
   "execution_count": 11,
   "metadata": {
    "collapsed": true
   },
   "outputs": [],
   "source": [
    "#### 먼저 gender의 값을 숫자로 인코딩해줍니다"
   ]
  },
  {
   "cell_type": "code",
   "execution_count": 15,
   "metadata": {},
   "outputs": [
    {
     "name": "stdout",
     "output_type": "stream",
     "text": [
      "Categorical classes: ['Female' 'Male']\n",
      "Integer classes: [0 1]\n",
      "[[1 73.847017017515]\n",
      " [1 68.78190404589029]\n",
      " [1 74.11010539178491]\n",
      " ..., \n",
      " [0 63.8679922137577]\n",
      " [0 69.03424313073461]\n",
      " [0 61.944245879517204]]\n"
     ]
    }
   ],
   "source": [
    "from sklearn.preprocessing import LabelEncoder\n",
    "enc = LabelEncoder()\n",
    "# 성별 정보는 0 인덱스에 존재\n",
    "label_encoder = enc.fit(X[:, 0])\n",
    "print (\"Categorical classes:\", label_encoder.classes_)\n",
    "\n",
    "# 성별값이 어떤 숫자로 변경되었는지 프린트\n",
    "integer_classes = label_encoder.transform(label_encoder.classes_)\n",
    "print (\"Integer classes:\", integer_classes)\n",
    "\n",
    "# 이제 feature 리스트에서 성별값을 숫자로 대치\n",
    "t = label_encoder.transform(X[:, 0])\n",
    "X[:, 0] = t\n",
    "print(X)"
   ]
  },
  {
   "cell_type": "code",
   "execution_count": 16,
   "metadata": {},
   "outputs": [
    {
     "data": {
      "text/plain": [
       "LinearRegression(copy_X=True, fit_intercept=True, n_jobs=1, normalize=False)"
      ]
     },
     "execution_count": 16,
     "metadata": {},
     "output_type": "execute_result"
    }
   ],
   "source": [
    "from sklearn import linear_model\n",
    "regr = linear_model.LinearRegression()\n",
    "regr.fit(X, y_true)"
   ]
  },
  {
   "cell_type": "code",
   "execution_count": 17,
   "metadata": {},
   "outputs": [
    {
     "data": {
      "text/plain": [
       "array([ 173.46238343,  192.84009395])"
      ]
     },
     "execution_count": 17,
     "metadata": {},
     "output_type": "execute_result"
    }
   ],
   "source": [
    "regr.predict([[0, 70], [1, 70]])"
   ]
  },
  {
   "cell_type": "markdown",
   "metadata": {},
   "source": [
    "#### 이제 Keras를 이용해서 실제 최적화 작업을 해보겠습니다"
   ]
  },
  {
   "cell_type": "markdown",
   "metadata": {},
   "source": [
    "<h1>Keras를 이용한 Deep Learning</h1>"
   ]
  },
  {
   "cell_type": "code",
   "execution_count": 18,
   "metadata": {},
   "outputs": [
    {
     "name": "stderr",
     "output_type": "stream",
     "text": [
      "Using TensorFlow backend.\n"
     ]
    }
   ],
   "source": [
    "from keras.models import Sequential\n",
    "from keras.layers import Dense\n",
    "from keras.optimizers import Adam, SGD"
   ]
  },
  {
   "cell_type": "code",
   "execution_count": 28,
   "metadata": {
    "collapsed": true
   },
   "outputs": [],
   "source": [
    "model = Sequential()"
   ]
  },
  {
   "cell_type": "code",
   "execution_count": 29,
   "metadata": {
    "collapsed": true
   },
   "outputs": [],
   "source": [
    "model.add(Dense(1, input_shape=(2,)))"
   ]
  },
  {
   "cell_type": "code",
   "execution_count": 30,
   "metadata": {},
   "outputs": [
    {
     "name": "stdout",
     "output_type": "stream",
     "text": [
      "_________________________________________________________________\n",
      "Layer (type)                 Output Shape              Param #   \n",
      "=================================================================\n",
      "dense_3 (Dense)              (None, 1)                 3         \n",
      "=================================================================\n",
      "Total params: 3\n",
      "Trainable params: 3\n",
      "Non-trainable params: 0\n",
      "_________________________________________________________________\n"
     ]
    }
   ],
   "source": [
    "model.summary()"
   ]
  },
  {
   "cell_type": "code",
   "execution_count": 33,
   "metadata": {},
   "outputs": [
    {
     "name": "stdout",
     "output_type": "stream",
     "text": [
      "[[1 73.847017017515]\n",
      " [1 68.78190404589029]\n",
      " [1 74.11010539178491]\n",
      " ..., \n",
      " [0 63.8679922137577]\n",
      " [0 69.03424313073461]\n",
      " [0 61.944245879517204]]\n"
     ]
    }
   ],
   "source": [
    "X.shape\n",
    "print (X)"
   ]
  },
  {
   "cell_type": "code",
   "execution_count": 34,
   "metadata": {
    "collapsed": true
   },
   "outputs": [],
   "source": [
    "model.compile(Adam(lr=0.8), 'mean_squared_error')"
   ]
  },
  {
   "cell_type": "code",
   "execution_count": 35,
   "metadata": {},
   "outputs": [
    {
     "name": "stdout",
     "output_type": "stream",
     "text": [
      "Epoch 1/40\n",
      "10000/10000 [==============================] - 0s - loss: 1113.4563     \n",
      "Epoch 2/40\n",
      "10000/10000 [==============================] - 0s - loss: 218.9313     \n",
      "Epoch 3/40\n",
      "10000/10000 [==============================] - 0s - loss: 221.5608     \n",
      "Epoch 4/40\n",
      "10000/10000 [==============================] - 0s - loss: 220.9098     \n",
      "Epoch 5/40\n",
      "10000/10000 [==============================] - 0s - loss: 209.1031     \n",
      "Epoch 6/40\n",
      "10000/10000 [==============================] - 0s - loss: 200.1582     \n",
      "Epoch 7/40\n",
      "10000/10000 [==============================] - 0s - loss: 199.4653     \n",
      "Epoch 8/40\n",
      "10000/10000 [==============================] - 0s - loss: 189.6210     \n",
      "Epoch 9/40\n",
      "10000/10000 [==============================] - 0s - loss: 175.2889     \n",
      "Epoch 10/40\n",
      "10000/10000 [==============================] - 0s - loss: 167.6328     \n",
      "Epoch 11/40\n",
      "10000/10000 [==============================] - 0s - loss: 164.4199     \n",
      "Epoch 12/40\n",
      "10000/10000 [==============================] - 0s - loss: 158.8876     \n",
      "Epoch 13/40\n",
      "10000/10000 [==============================] - 0s - loss: 159.7780     \n",
      "Epoch 14/40\n",
      "10000/10000 [==============================] - 0s - loss: 148.3390     \n",
      "Epoch 15/40\n",
      "10000/10000 [==============================] - 0s - loss: 149.7932     \n",
      "Epoch 16/40\n",
      "10000/10000 [==============================] - 0s - loss: 137.0965     \n",
      "Epoch 17/40\n",
      "10000/10000 [==============================] - 0s - loss: 138.9500     \n",
      "Epoch 18/40\n",
      "10000/10000 [==============================] - 0s - loss: 139.8416     \n",
      "Epoch 19/40\n",
      "10000/10000 [==============================] - 0s - loss: 128.2163     \n",
      "Epoch 20/40\n",
      "10000/10000 [==============================] - 0s - loss: 135.7712     \n",
      "Epoch 21/40\n",
      "10000/10000 [==============================] - 0s - loss: 137.2624     \n",
      "Epoch 22/40\n",
      "10000/10000 [==============================] - 0s - loss: 126.0638     \n",
      "Epoch 23/40\n",
      "10000/10000 [==============================] - 0s - loss: 121.7060     \n",
      "Epoch 24/40\n",
      "10000/10000 [==============================] - 0s - loss: 131.4222     \n",
      "Epoch 25/40\n",
      "10000/10000 [==============================] - 0s - loss: 141.3653     \n",
      "Epoch 26/40\n",
      "10000/10000 [==============================] - 0s - loss: 126.3062     \n",
      "Epoch 27/40\n",
      "10000/10000 [==============================] - 0s - loss: 121.4085     \n",
      "Epoch 28/40\n",
      "10000/10000 [==============================] - 0s - loss: 117.2297     \n",
      "Epoch 29/40\n",
      "10000/10000 [==============================] - 0s - loss: 128.1953     \n",
      "Epoch 30/40\n",
      "10000/10000 [==============================] - 0s - loss: 133.0628     \n",
      "Epoch 31/40\n",
      "10000/10000 [==============================] - 0s - loss: 116.4305     \n",
      "Epoch 32/40\n",
      "10000/10000 [==============================] - 0s - loss: 132.4397     \n",
      "Epoch 33/40\n",
      "10000/10000 [==============================] - 0s - loss: 125.2302     \n",
      "Epoch 34/40\n",
      "10000/10000 [==============================] - 0s - loss: 131.8237     \n",
      "Epoch 35/40\n",
      "10000/10000 [==============================] - 0s - loss: 127.7388     \n",
      "Epoch 36/40\n",
      "10000/10000 [==============================] - 0s - loss: 125.6003     \n",
      "Epoch 37/40\n",
      "10000/10000 [==============================] - 0s - loss: 121.9589     \n",
      "Epoch 38/40\n",
      "10000/10000 [==============================] - 0s - loss: 125.0537     \n",
      "Epoch 39/40\n",
      "10000/10000 [==============================] - 0s - loss: 124.5519     \n",
      "Epoch 40/40\n",
      "10000/10000 [==============================] - 0s - loss: 135.5858     \n"
     ]
    },
    {
     "data": {
      "text/plain": [
       "<keras.callbacks.History at 0x1229e8b00>"
      ]
     },
     "execution_count": 35,
     "metadata": {},
     "output_type": "execute_result"
    }
   ],
   "source": [
    "model.fit(X, y_true, epochs=40)"
   ]
  },
  {
   "cell_type": "code",
   "execution_count": 36,
   "metadata": {
    "collapsed": true
   },
   "outputs": [],
   "source": [
    "y_pred = model.predict(X)"
   ]
  },
  {
   "cell_type": "code",
   "execution_count": 45,
   "metadata": {
    "collapsed": true
   },
   "outputs": [],
   "source": [
    "W, B = model.get_weights()"
   ]
  },
  {
   "cell_type": "code",
   "execution_count": 46,
   "metadata": {},
   "outputs": [
    {
     "data": {
      "text/plain": [
       "array([[ 20.1812973 ],\n",
       "       [  5.87794876]], dtype=float32)"
      ]
     },
     "execution_count": 46,
     "metadata": {},
     "output_type": "execute_result"
    }
   ],
   "source": [
    "W"
   ]
  },
  {
   "cell_type": "code",
   "execution_count": 47,
   "metadata": {},
   "outputs": [
    {
     "data": {
      "text/plain": [
       "array([-234.01393127], dtype=float32)"
      ]
     },
     "execution_count": 47,
     "metadata": {},
     "output_type": "execute_result"
    }
   ],
   "source": [
    "B"
   ]
  },
  {
   "cell_type": "code",
   "execution_count": 39,
   "metadata": {
    "collapsed": true
   },
   "outputs": [],
   "source": [
    "from sklearn.metrics import r2_score"
   ]
  },
  {
   "cell_type": "code",
   "execution_count": 40,
   "metadata": {},
   "outputs": [
    {
     "name": "stdout",
     "output_type": "stream",
     "text": [
      "The R2 score is 0.881\n"
     ]
    }
   ],
   "source": [
    "print(\"The R2 score is {:0.3f}\".format(r2_score(y_true, y_pred)))"
   ]
  },
  {
   "cell_type": "code",
   "execution_count": 41,
   "metadata": {
    "collapsed": true
   },
   "outputs": [],
   "source": [
    "from sklearn.model_selection import train_test_split"
   ]
  },
  {
   "cell_type": "code",
   "execution_count": 42,
   "metadata": {
    "collapsed": true
   },
   "outputs": [],
   "source": [
    "X_train, X_test, y_train, y_test = train_test_split(X, y_true,\n",
    "                                                    test_size=0.2)"
   ]
  },
  {
   "cell_type": "code",
   "execution_count": 43,
   "metadata": {},
   "outputs": [
    {
     "data": {
      "text/plain": [
       "8000"
      ]
     },
     "execution_count": 43,
     "metadata": {},
     "output_type": "execute_result"
    }
   ],
   "source": [
    "len(X_train)"
   ]
  },
  {
   "cell_type": "code",
   "execution_count": 44,
   "metadata": {},
   "outputs": [
    {
     "data": {
      "text/plain": [
       "2000"
      ]
     },
     "execution_count": 44,
     "metadata": {},
     "output_type": "execute_result"
    }
   ],
   "source": [
    "len(X_test)"
   ]
  },
  {
   "cell_type": "code",
   "execution_count": 24,
   "metadata": {
    "collapsed": true
   },
   "outputs": [],
   "source": [
    "W[0, 0] = 0.0\n",
    "B[0] = 0.0\n",
    "model.set_weights((W, B))"
   ]
  },
  {
   "cell_type": "code",
   "execution_count": 48,
   "metadata": {},
   "outputs": [
    {
     "data": {
      "text/plain": [
       "<keras.callbacks.History at 0x122bb7c50>"
      ]
     },
     "execution_count": 48,
     "metadata": {},
     "output_type": "execute_result"
    }
   ],
   "source": [
    "model.fit(X_train, y_train, epochs=50, verbose=0)"
   ]
  },
  {
   "cell_type": "code",
   "execution_count": 49,
   "metadata": {
    "collapsed": true
   },
   "outputs": [],
   "source": [
    "y_train_pred = model.predict(X_train).ravel()\n",
    "y_test_pred = model.predict(X_test).ravel()"
   ]
  },
  {
   "cell_type": "code",
   "execution_count": 50,
   "metadata": {
    "collapsed": true
   },
   "outputs": [],
   "source": [
    "from sklearn.metrics import mean_squared_error as mse"
   ]
  },
  {
   "cell_type": "code",
   "execution_count": 51,
   "metadata": {},
   "outputs": [
    {
     "name": "stdout",
     "output_type": "stream",
     "text": [
      "The Mean Squared Error on the Train set is:\t185.9\n",
      "The Mean Squared Error on the Test set is:\t189.3\n"
     ]
    }
   ],
   "source": [
    "print(\"The Mean Squared Error on the Train set is:\\t{:0.1f}\".format(mse(y_train, y_train_pred)))\n",
    "print(\"The Mean Squared Error on the Test set is:\\t{:0.1f}\".format(mse(y_test, y_test_pred)))"
   ]
  },
  {
   "cell_type": "code",
   "execution_count": 29,
   "metadata": {},
   "outputs": [
    {
     "name": "stdout",
     "output_type": "stream",
     "text": [
      "The R2 score on the Train set is:\t0.855\n",
      "The R2 score on the Test set is:\t0.849\n"
     ]
    }
   ],
   "source": [
    "print(\"The R2 score on the Train set is:\\t{:0.3f}\".format(r2_score(y_train, y_train_pred)))\n",
    "print(\"The R2 score on the Test set is:\\t{:0.3f}\".format(r2_score(y_test, y_test_pred)))"
   ]
  },
  {
   "cell_type": "markdown",
   "metadata": {},
   "source": [
    "### Categorical Features"
   ]
  },
  {
   "cell_type": "code",
   "execution_count": 30,
   "metadata": {},
   "outputs": [
    {
     "data": {
      "text/plain": [
       "array(['Male', 'Female'], dtype=object)"
      ]
     },
     "execution_count": 30,
     "metadata": {},
     "output_type": "execute_result"
    }
   ],
   "source": [
    "df['Gender'].unique()"
   ]
  },
  {
   "cell_type": "code",
   "execution_count": 31,
   "metadata": {},
   "outputs": [
    {
     "data": {
      "text/html": [
       "<div>\n",
       "<table border=\"1\" class=\"dataframe\">\n",
       "  <thead>\n",
       "    <tr style=\"text-align: right;\">\n",
       "      <th></th>\n",
       "      <th>Gender_Female</th>\n",
       "      <th>Gender_Male</th>\n",
       "    </tr>\n",
       "  </thead>\n",
       "  <tbody>\n",
       "    <tr>\n",
       "      <th>0</th>\n",
       "      <td>0</td>\n",
       "      <td>1</td>\n",
       "    </tr>\n",
       "    <tr>\n",
       "      <th>1</th>\n",
       "      <td>0</td>\n",
       "      <td>1</td>\n",
       "    </tr>\n",
       "    <tr>\n",
       "      <th>2</th>\n",
       "      <td>0</td>\n",
       "      <td>1</td>\n",
       "    </tr>\n",
       "    <tr>\n",
       "      <th>3</th>\n",
       "      <td>0</td>\n",
       "      <td>1</td>\n",
       "    </tr>\n",
       "    <tr>\n",
       "      <th>4</th>\n",
       "      <td>0</td>\n",
       "      <td>1</td>\n",
       "    </tr>\n",
       "  </tbody>\n",
       "</table>\n",
       "</div>"
      ],
      "text/plain": [
       "   Gender_Female  Gender_Male\n",
       "0              0            1\n",
       "1              0            1\n",
       "2              0            1\n",
       "3              0            1\n",
       "4              0            1"
      ]
     },
     "execution_count": 31,
     "metadata": {},
     "output_type": "execute_result"
    }
   ],
   "source": [
    "pd.get_dummies(df['Gender'], prefix='Gender').head()"
   ]
  },
  {
   "cell_type": "markdown",
   "metadata": {},
   "source": [
    "### Feature Transformations"
   ]
  },
  {
   "cell_type": "code",
   "execution_count": 32,
   "metadata": {},
   "outputs": [
    {
     "data": {
      "text/html": [
       "<div>\n",
       "<table border=\"1\" class=\"dataframe\">\n",
       "  <thead>\n",
       "    <tr style=\"text-align: right;\">\n",
       "      <th></th>\n",
       "      <th>Height</th>\n",
       "      <th>Weight</th>\n",
       "      <th>Weight_mms</th>\n",
       "      <th>Height_mms</th>\n",
       "    </tr>\n",
       "  </thead>\n",
       "  <tbody>\n",
       "    <tr>\n",
       "      <th>count</th>\n",
       "      <td>10000.00</td>\n",
       "      <td>10000.00</td>\n",
       "      <td>10000.00</td>\n",
       "      <td>10000.00</td>\n",
       "    </tr>\n",
       "    <tr>\n",
       "      <th>mean</th>\n",
       "      <td>66.37</td>\n",
       "      <td>161.44</td>\n",
       "      <td>0.47</td>\n",
       "      <td>0.49</td>\n",
       "    </tr>\n",
       "    <tr>\n",
       "      <th>std</th>\n",
       "      <td>3.85</td>\n",
       "      <td>32.11</td>\n",
       "      <td>0.16</td>\n",
       "      <td>0.16</td>\n",
       "    </tr>\n",
       "    <tr>\n",
       "      <th>min</th>\n",
       "      <td>54.26</td>\n",
       "      <td>64.70</td>\n",
       "      <td>0.00</td>\n",
       "      <td>0.00</td>\n",
       "    </tr>\n",
       "    <tr>\n",
       "      <th>25%</th>\n",
       "      <td>63.51</td>\n",
       "      <td>135.82</td>\n",
       "      <td>0.35</td>\n",
       "      <td>0.37</td>\n",
       "    </tr>\n",
       "    <tr>\n",
       "      <th>50%</th>\n",
       "      <td>66.32</td>\n",
       "      <td>161.21</td>\n",
       "      <td>0.47</td>\n",
       "      <td>0.49</td>\n",
       "    </tr>\n",
       "    <tr>\n",
       "      <th>75%</th>\n",
       "      <td>69.17</td>\n",
       "      <td>187.17</td>\n",
       "      <td>0.60</td>\n",
       "      <td>0.60</td>\n",
       "    </tr>\n",
       "    <tr>\n",
       "      <th>max</th>\n",
       "      <td>79.00</td>\n",
       "      <td>269.99</td>\n",
       "      <td>1.00</td>\n",
       "      <td>1.00</td>\n",
       "    </tr>\n",
       "  </tbody>\n",
       "</table>\n",
       "</div>"
      ],
      "text/plain": [
       "         Height    Weight  Weight_mms  Height_mms\n",
       "count  10000.00  10000.00    10000.00    10000.00\n",
       "mean      66.37    161.44        0.47        0.49\n",
       "std        3.85     32.11        0.16        0.16\n",
       "min       54.26     64.70        0.00        0.00\n",
       "25%       63.51    135.82        0.35        0.37\n",
       "50%       66.32    161.21        0.47        0.49\n",
       "75%       69.17    187.17        0.60        0.60\n",
       "max       79.00    269.99        1.00        1.00"
      ]
     },
     "execution_count": 32,
     "metadata": {},
     "output_type": "execute_result"
    }
   ],
   "source": [
    "from sklearn.preprocessing import MinMaxScaler\n",
    "\n",
    "mms = MinMaxScaler()\n",
    "df['Weight_mms'] = mms.fit_transform(df[['Weight']])\n",
    "df['Height_mms'] = mms.fit_transform(df[['Height']])\n",
    "df.describe().round(2)"
   ]
  },
  {
   "cell_type": "code",
   "execution_count": 33,
   "metadata": {},
   "outputs": [
    {
     "data": {
      "image/png": "[encoded data removed]",
      "text/plain": [
       "<matplotlib.figure.Figure at 0x12220c128>"
      ]
     },
     "metadata": {},
     "output_type": "display_data"
    }
   ],
   "source": [
    "plt.figure(figsize=(15, 5))\n",
    "\n",
    "for i, feature in enumerate(['Height', 'Height_mms']):\n",
    "    plt.subplot(1, 4, i+1)\n",
    "    df[feature].plot(kind='hist', title=feature)\n",
    "    plt.xlabel(feature)"
   ]
  },
  {
   "cell_type": "code",
   "execution_count": 34,
   "metadata": {
    "collapsed": true
   },
   "outputs": [],
   "source": [
    "X = df[['Height_mms']].values\n",
    "y_true = df['Weight'].values"
   ]
  },
  {
   "cell_type": "code",
   "execution_count": 35,
   "metadata": {},
   "outputs": [
    {
     "name": "stdout",
     "output_type": "stream",
     "text": [
      "Epoch 1/40\n",
      "10000/10000 [==============================] - 0s - loss: 40513.0425     \n",
      "Epoch 2/40\n",
      "10000/10000 [==============================] - 0s - loss: 629.1945     \n",
      "Epoch 3/40\n",
      "10000/10000 [==============================] - 0s - loss: 513.9310     \n",
      "Epoch 4/40\n",
      "10000/10000 [==============================] - 0s - loss: 497.0972     \n",
      "Epoch 5/40\n",
      "10000/10000 [==============================] - 0s - loss: 478.5865     \n",
      "Epoch 6/40\n",
      "10000/10000 [==============================] - 0s - loss: 457.9499     \n",
      "Epoch 7/40\n",
      "10000/10000 [==============================] - 0s - loss: 435.5356     \n",
      "Epoch 8/40\n",
      "10000/10000 [==============================] - 0s - loss: 411.5925     \n",
      "Epoch 9/40\n",
      "10000/10000 [==============================] - 0s - loss: 385.9860     \n",
      "Epoch 10/40\n",
      "10000/10000 [==============================] - 0s - loss: 359.0271     \n",
      "Epoch 11/40\n",
      "10000/10000 [==============================] - 0s - loss: 331.4781     \n",
      "Epoch 12/40\n",
      "10000/10000 [==============================] - 0s - loss: 303.9725     \n",
      "Epoch 13/40\n",
      "10000/10000 [==============================] - 0s - loss: 276.8627     \n",
      "Epoch 14/40\n",
      "10000/10000 [==============================] - 0s - loss: 251.2468     \n",
      "Epoch 15/40\n",
      "10000/10000 [==============================] - 0s - loss: 227.5360     \n",
      "Epoch 16/40\n",
      "10000/10000 [==============================] - 0s - loss: 207.1652     \n",
      "Epoch 17/40\n",
      "10000/10000 [==============================] - 0s - loss: 189.7467     \n",
      "Epoch 18/40\n",
      "10000/10000 [==============================] - 0s - loss: 176.2144     \n",
      "Epoch 19/40\n",
      "10000/10000 [==============================] - 0s - loss: 165.7328     \n",
      "Epoch 20/40\n",
      "10000/10000 [==============================] - 0s - loss: 158.8380     \n",
      "Epoch 21/40\n",
      "10000/10000 [==============================] - 0s - loss: 154.4150     \n",
      "Epoch 22/40\n",
      "10000/10000 [==============================] - 0s - loss: 151.8429     \n",
      "Epoch 23/40\n",
      "10000/10000 [==============================] - 0s - loss: 150.5948     \n",
      "Epoch 24/40\n",
      "10000/10000 [==============================] - 0s - loss: 150.0752     \n",
      "Epoch 25/40\n",
      "10000/10000 [==============================] - 0s - loss: 149.8041     \n",
      "Epoch 26/40\n",
      "10000/10000 [==============================] - 0s - loss: 149.9951     \n",
      "Epoch 27/40\n",
      "10000/10000 [==============================] - 0s - loss: 149.9042     \n",
      "Epoch 28/40\n",
      "10000/10000 [==============================] - 0s - loss: 149.9846     \n",
      "Epoch 29/40\n",
      "10000/10000 [==============================] - 0s - loss: 149.9618     \n",
      "Epoch 30/40\n",
      "10000/10000 [==============================] - 0s - loss: 150.1103     \n",
      "Epoch 31/40\n",
      "10000/10000 [==============================] - 0s - loss: 150.0983     \n",
      "Epoch 32/40\n",
      "10000/10000 [==============================] - 0s - loss: 150.0884     \n",
      "Epoch 33/40\n",
      "10000/10000 [==============================] - 0s - loss: 150.1899     \n",
      "Epoch 34/40\n",
      "10000/10000 [==============================] - 0s - loss: 150.2291     \n",
      "Epoch 35/40\n",
      "10000/10000 [==============================] - 0s - loss: 150.1049     \n",
      "Epoch 36/40\n",
      "10000/10000 [==============================] - 0s - loss: 150.0200     \n",
      "Epoch 37/40\n",
      "10000/10000 [==============================] - 0s - loss: 150.4505     \n",
      "Epoch 38/40\n",
      "10000/10000 [==============================] - 0s - loss: 150.2480     \n",
      "Epoch 39/40\n",
      "10000/10000 [==============================] - 0s - loss: 150.2889     \n",
      "Epoch 40/40\n",
      "10000/10000 [==============================] - 0s - loss: 150.5564     \n"
     ]
    },
    {
     "data": {
      "text/plain": [
       "<keras.callbacks.History at 0x121f798d0>"
      ]
     },
     "execution_count": 35,
     "metadata": {},
     "output_type": "execute_result"
    }
   ],
   "source": [
    "model.fit(X, y_true, epochs=40)"
   ]
  },
  {
   "cell_type": "code",
   "execution_count": 36,
   "metadata": {
    "collapsed": true
   },
   "outputs": [],
   "source": [
    "y_pred = model.predict(X)"
   ]
  },
  {
   "cell_type": "code",
   "execution_count": 38,
   "metadata": {},
   "outputs": [
    {
     "data": {
      "text/plain": [
       "[<matplotlib.lines.Line2D at 0x1225344e0>]"
      ]
     },
     "execution_count": 38,
     "metadata": {},
     "output_type": "execute_result"
    },
    {
     "data": {
      "image/png": "[encoded data removed]",
      "text/plain": [
       "<matplotlib.figure.Figure at 0x122534860>"
      ]
     },
     "metadata": {},
     "output_type": "display_data"
    }
   ],
   "source": [
    "df.plot(kind='scatter',\n",
    "        x='Height_mms',\n",
    "        y='Weight',\n",
    "        title='Weight and Height in adults')\n",
    "plt.plot(X, y_pred, color='red')"
   ]
  },
  {
   "cell_type": "code",
   "execution_count": 39,
   "metadata": {
    "collapsed": true
   },
   "outputs": [],
   "source": [
    "W, B = model.get_weights()"
   ]
  },
  {
   "cell_type": "code",
   "execution_count": 40,
   "metadata": {},
   "outputs": [
    {
     "data": {
      "text/plain": [
       "array([[ 192.19378662]], dtype=float32)"
      ]
     },
     "execution_count": 40,
     "metadata": {},
     "output_type": "execute_result"
    }
   ],
   "source": [
    "W"
   ]
  },
  {
   "cell_type": "code",
   "execution_count": 41,
   "metadata": {},
   "outputs": [
    {
     "data": {
      "text/plain": [
       "array([ 68.47800446], dtype=float32)"
      ]
     },
     "execution_count": 41,
     "metadata": {},
     "output_type": "execute_result"
    }
   ],
   "source": [
    "B"
   ]
  },
  {
   "cell_type": "markdown",
   "metadata": {},
   "source": [
    "### confusion matrix\n",
    "##### accuracy = (TP + TN)/(TP + TN + FP + FN)\n",
    "##### precision = TP/(TP + FP)\n",
    "##### recall = TP/(TP + FN)"
   ]
  },
  {
   "cell_type": "code",
   "execution_count": null,
   "metadata": {
    "collapsed": true
   },
   "outputs": [],
   "source": []
  }
 ],
 "metadata": {
  "kernelspec": {
   "display_name": "Python 3",
   "language": "python",
   "name": "python3"
  },
  "language_info": {
   "codemirror_mode": {
    "name": "ipython",
    "version": 3
   },
   "file_extension": ".py",
   "mimetype": "text/x-python",
   "name": "python",
   "nbconvert_exporter": "python",
   "pygments_lexer": "ipython3",
   "version": "3.6.1"
  }
 },
 "nbformat": 4,
 "nbformat_minor": 2
}

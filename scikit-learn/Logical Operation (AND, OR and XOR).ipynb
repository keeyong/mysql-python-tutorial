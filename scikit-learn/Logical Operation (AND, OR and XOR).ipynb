{
 "cells": [
  {
   "cell_type": "markdown",
   "metadata": {},
   "source": [
    "# Linear regression으로 AND OR XOR 구현해보기"
   ]
  },
  {
   "cell_type": "markdown",
   "metadata": {},
   "source": [
    "#### OR 구현"
   ]
  },
  {
   "cell_type": "code",
   "execution_count": 47,
   "metadata": {},
   "outputs": [
    {
     "data": {
      "text/plain": [
       "LinearRegression(copy_X=True, fit_intercept=True, n_jobs=1, normalize=False)"
      ]
     },
     "execution_count": 47,
     "metadata": {},
     "output_type": "execute_result"
    }
   ],
   "source": [
    "from sklearn import linear_model\n",
    "X = [[0, 0], [1, 1], [0, 1], [1, 0]]\n",
    "Y = [0, 1, 1, 1]\n",
    "regr = linear_model.LinearRegression()\n",
    "regr.fit(X, Y)"
   ]
  },
  {
   "cell_type": "code",
   "execution_count": 48,
   "metadata": {},
   "outputs": [
    {
     "name": "stdout",
     "output_type": "stream",
     "text": [
      "[ 0.25]\n",
      "[ 0.75]\n",
      "[ 0.75]\n",
      "[ 1.25]\n"
     ]
    }
   ],
   "source": [
    "print(regr.predict([[0,0]]))\n",
    "print(regr.predict([[0,1]]))\n",
    "print(regr.predict([[1,0]]))\n",
    "print(regr.predict([[1,1]]))"
   ]
  },
  {
   "cell_type": "code",
   "execution_count": 46,
   "metadata": {},
   "outputs": [
    {
     "name": "stderr",
     "output_type": "stream",
     "text": [
      "/anaconda/lib/python3.6/site-packages/matplotlib/figure.py:403: UserWarning: matplotlib is currently using a non-GUI backend, so cannot show the figure\n",
      "  \"matplotlib is currently using a non-GUI backend, \"\n"
     ]
    },
    {
     "data": {
      "image/png": "[encoded data removed]",
      "text/plain": [
       "<matplotlib.figure.Figure at 0x119838630>"
      ]
     },
     "metadata": {},
     "output_type": "display_data"
    }
   ],
   "source": [
    "%matplotlib inline\n",
    "import matplotlib.pyplot as plt\n",
    "import numpy as np\n",
    "\n",
    "x = np.arange(0, 2, 0.1)\n",
    "fig, ax = plt.subplots()\n",
    "ax.plot(x, m * x + b, color='red')\n",
    "\n",
    "x = [0, 0, 1, 1]\n",
    "y = [0, 1, 0, 1]\n",
    "ax.scatter(x, y)\n",
    "\n",
    "fig.show()"
   ]
  },
  {
   "cell_type": "code",
   "execution_count": 33,
   "metadata": {},
   "outputs": [
    {
     "name": "stdout",
     "output_type": "stream",
     "text": [
      "[-0.25]\n",
      "[ 0.25]\n",
      "[ 0.25]\n",
      "[ 0.75]\n"
     ]
    }
   ],
   "source": [
    "from sklearn import linear_model\n",
    "X = [[0, 0], [1, 1], [0, 1], [1, 0]]\n",
    "Y = [0, 1, 0, 0]\n",
    "regr = linear_model.LinearRegression()\n",
    "regr.fit(X, Y)\n",
    "\n",
    "print(regr.predict([[0,0]]))\n",
    "print(regr.predict([[0,1]]))\n",
    "print(regr.predict([[1,0]]))\n",
    "print(regr.predict([[1,1]]))"
   ]
  },
  {
   "cell_type": "code",
   "execution_count": 34,
   "metadata": {},
   "outputs": [
    {
     "name": "stdout",
     "output_type": "stream",
     "text": [
      "[ 0.5]\n",
      "[ 0.5]\n",
      "[ 0.5]\n",
      "[ 0.5]\n"
     ]
    }
   ],
   "source": [
    "from sklearn import linear_model\n",
    "X = [[0, 0], [1, 1], [0, 1], [1, 0]]\n",
    "Y = [0, 0, 1, 1]\n",
    "regr = linear_model.LinearRegression()\n",
    "regr.fit(X, Y)\n",
    "\n",
    "print(regr.predict([[0,0]]))\n",
    "print(regr.predict([[0,1]]))\n",
    "print(regr.predict([[1,0]]))\n",
    "print(regr.predict([[1,1]]))"
   ]
  },
  {
   "cell_type": "code",
   "execution_count": 28,
   "metadata": {},
   "outputs": [
    {
     "name": "stdout",
     "output_type": "stream",
     "text": [
      "[1]\n",
      "[0]\n",
      "[1]\n",
      "[1]\n"
     ]
    }
   ],
   "source": [
    "from sklearn import tree\n",
    "X = [[0, 0], [1, 1], [0, 1], [1, 0]]\n",
    "Y = [0, 1, 1, 1]\n",
    "clf = tree.DecisionTreeClassifier()\n",
    "clf = clf.fit(X, Y)\n",
    "\n",
    "print(clf.predict([[0,1]]))\n",
    "print(clf.predict([[0,0]]))\n",
    "print(clf.predict([[1,1]]))\n",
    "print(clf.predict([[1,0]]))"
   ]
  },
  {
   "cell_type": "code",
   "execution_count": 25,
   "metadata": {},
   "outputs": [
    {
     "name": "stdout",
     "output_type": "stream",
     "text": [
      "[0]\n",
      "[0]\n",
      "[1]\n",
      "[0]\n"
     ]
    }
   ],
   "source": [
    "from sklearn import tree\n",
    "X = [[0, 0], [1, 1], [0, 1], [1, 0]]\n",
    "Y = [0, 1, 0, 0]\n",
    "clf = tree.DecisionTreeClassifier()\n",
    "clf = clf.fit(X, Y)\n",
    "\n",
    "print(clf.predict([[0,1]]))\n",
    "print(clf.predict([[0,0]]))\n",
    "print(clf.predict([[1,1]]))\n",
    "print(clf.predict([[1,0]]))"
   ]
  },
  {
   "cell_type": "code",
   "execution_count": 23,
   "metadata": {},
   "outputs": [
    {
     "name": "stdout",
     "output_type": "stream",
     "text": [
      "[1]\n",
      "[0]\n",
      "[0]\n",
      "[1]\n"
     ]
    }
   ],
   "source": [
    "from sklearn import tree\n",
    "X = [[0, 0], [1, 1], [0, 1], [1, 0]]\n",
    "Y = [0, 0, 1, 1]\n",
    "clf = tree.DecisionTreeClassifier()\n",
    "clf = clf.fit(X, Y)\n",
    "\n",
    "print(clf.predict([[0,1]]))\n",
    "print(clf.predict([[0,0]]))\n",
    "print(clf.predict([[1,1]]))\n",
    "print(clf.predict([[1,0]]))"
   ]
  },
  {
   "cell_type": "code",
   "execution_count": null,
   "metadata": {
    "collapsed": true
   },
   "outputs": [],
   "source": []
  }
 ],
 "metadata": {
  "kernelspec": {
   "display_name": "Python 3",
   "language": "python",
   "name": "python3"
  },
  "language_info": {
   "codemirror_mode": {
    "name": "ipython",
    "version": 3
   },
   "file_extension": ".py",
   "mimetype": "text/x-python",
   "name": "python",
   "nbconvert_exporter": "python",
   "pygments_lexer": "ipython3",
   "version": "3.6.1"
  }
 },
 "nbformat": 4,
 "nbformat_minor": 2
}

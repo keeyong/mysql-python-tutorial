{
 "cells": [
  {
   "cell_type": "markdown",
   "metadata": {},
   "source": [
    "# 간단한 ETL 작성해보기\n",
    "\n",
    " - laptop에 있는 zipcode 텍스트파일(tab separated)을 읽어서 zipcode 테이블에 추가한다 "
   ]
  },
  {
   "cell_type": "code",
   "execution_count": 1,
   "metadata": {
    "collapsed": true
   },
   "outputs": [],
   "source": [
    "import sys\n",
    "import psycopg2"
   ]
  },
  {
   "cell_type": "markdown",
   "metadata": {},
   "source": [
    "### 두 개의 전역 변수를 선언"
   ]
  },
  {
   "cell_type": "code",
   "execution_count": 2,
   "metadata": {
    "collapsed": true
   },
   "outputs": [],
   "source": [
    "raw_rows = []\n",
    "records = []"
   ]
  },
  {
   "cell_type": "markdown",
   "metadata": {},
   "source": [
    "#### extract 함수 구현"
   ]
  },
  {
   "cell_type": "code",
   "execution_count": 3,
   "metadata": {
    "collapsed": true
   },
   "outputs": [],
   "source": [
    "def extract(filename):\n",
    "    with open(filename) as f:\n",
    "        for line in f:\n",
    "            raw_rows.append(line.rstrip())"
   ]
  },
  {
   "cell_type": "markdown",
   "metadata": {},
   "source": [
    "#### transform 함수 구현"
   ]
  },
  {
   "cell_type": "code",
   "execution_count": 4,
   "metadata": {
    "collapsed": true
   },
   "outputs": [],
   "source": [
    "def transform():\n",
    "    '''\n",
    "    '''\n",
    "    for row in raw_rows:\n",
    "        fields = row.split(\"\\t\")\n",
    "        records.append({ 'id': fields[0], 'state': fields[1], 'city': fields[2] })"
   ]
  },
  {
   "cell_type": "markdown",
   "metadata": {},
   "source": [
    "#### load 함수 구현"
   ]
  },
  {
   "cell_type": "code",
   "execution_count": 5,
   "metadata": {
    "collapsed": true
   },
   "outputs": [],
   "source": [
    "def load():\n",
    "    conn = psycopg2.connect(\"dbname='prod' user='admin' host='13.124.7.179' password='Kookmin1' port='5439'\")\n",
    "    conn.autocommit = True\n",
    "    cur = conn.cursor()\n",
    "    for record in records:\n",
    "        sql = \"INSERT INTO zipcode VALUES({id}, '{state}', '{city}')\".format(\n",
    "            id=record['id'],\n",
    "            state=record['state'],\n",
    "            city=record['city'])\n",
    "        print(sql)\n",
    "        cur.execute(sql)\n",
    "    conn.commit()\n",
    "    cur.close()\n",
    "    conn.close()"
   ]
  },
  {
   "cell_type": "markdown",
   "metadata": {},
   "source": [
    "#### 이제 위의 함수들을 하나씩 실행"
   ]
  },
  {
   "cell_type": "code",
   "execution_count": 6,
   "metadata": {},
   "outputs": [
    {
     "name": "stdout",
     "output_type": "stream",
     "text": [
      "INSERT INTO zipcode VALUES(10000, 'new york', 'new york city')\n",
      "INSERT INTO zipcode VALUES(10001, 'nevada', 'las vegas')\n"
     ]
    }
   ],
   "source": [
    "extract(\"/Users/khan/Downloads/sample_zipcode.txt\")\n",
    "transform()\n",
    "load()"
   ]
  },
  {
   "cell_type": "code",
   "execution_count": null,
   "metadata": {
    "collapsed": true
   },
   "outputs": [],
   "source": []
  }
 ],
 "metadata": {
  "kernelspec": {
   "display_name": "Python 3",
   "language": "python",
   "name": "python3"
  },
  "language_info": {
   "codemirror_mode": {
    "name": "ipython",
    "version": 3
   },
   "file_extension": ".py",
   "mimetype": "text/x-python",
   "name": "python",
   "nbconvert_exporter": "python",
   "pygments_lexer": "ipython3",
   "version": "3.6.1"
  }
 },
 "nbformat": 4,
 "nbformat_minor": 2
}
